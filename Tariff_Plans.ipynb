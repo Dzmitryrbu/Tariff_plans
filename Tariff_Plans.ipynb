{
 "cells": [
  {
   "cell_type": "markdown",
   "id": "6f6abbb4",
   "metadata": {},
   "source": [
    "# Determination of a prospective tariff for a telecom company"
   ]
  },
  {
   "cell_type": "markdown",
   "id": "85e6dcc1",
   "metadata": {},
   "source": [
    "Megaline is a federal mobile operator. Clients are offered two tariff plans: \"Smart\" and \"Ultra\". To adjust the advertising budget, the commercial department wants to understand which tariff brings in more money.\n",
    "\n",
    "It is necessary to make a preliminary analysis of tariffs on a small sample of customers. The data of 500 Megaline users is available: who they are, where they are from, what tariff they use, how many calls and messages each sent in 2018. It is necessary to analyze the behavior of customers and draw a conclusion - which tariff is better."
   ]
  },
  {
   "cell_type": "markdown",
   "id": "ec24fcee",
   "metadata": {},
   "source": [
    "## Data exploration"
   ]
  },
  {
   "cell_type": "code",
   "execution_count": 1,
   "id": "f592edb1",
   "metadata": {},
   "outputs": [],
   "source": [
    "# Import libraries\n",
    "import pandas as pd\n",
    "import datetime as dt\n",
    "import numpy as np\n",
    "import math\n",
    "from matplotlib import pyplot as plt\n",
    "from scipy import stats as st"
   ]
  },
  {
   "cell_type": "code",
   "execution_count": 2,
   "id": "b12ea7cb",
   "metadata": {},
   "outputs": [],
   "source": [
    "# Get dataframes from files\n",
    "data_calls = pd.read_csv('calls.csv')\n",
    "data_internet = pd.read_csv('internet.csv')\n",
    "data_messages = pd.read_csv('messages.csv')\n",
    "data_tariffs = pd.read_csv('tariffs.csv')\n",
    "data_users = pd.read_csv('users.csv')"
   ]
  },
  {
   "cell_type": "code",
   "execution_count": 3,
   "id": "f6873419",
   "metadata": {
    "scrolled": true
   },
   "outputs": [
    {
     "name": "stdout",
     "output_type": "stream",
     "text": [
      "<class 'pandas.core.frame.DataFrame'>\n",
      "RangeIndex: 202607 entries, 0 to 202606\n",
      "Data columns (total 4 columns):\n",
      " #   Column     Non-Null Count   Dtype  \n",
      "---  ------     --------------   -----  \n",
      " 0   id         202607 non-null  object \n",
      " 1   call_date  202607 non-null  object \n",
      " 2   duration   202607 non-null  float64\n",
      " 3   user_id    202607 non-null  int64  \n",
      "dtypes: float64(1), int64(1), object(2)\n",
      "memory usage: 6.2+ MB\n",
      "<class 'pandas.core.frame.DataFrame'>\n",
      "RangeIndex: 149396 entries, 0 to 149395\n",
      "Data columns (total 5 columns):\n",
      " #   Column        Non-Null Count   Dtype  \n",
      "---  ------        --------------   -----  \n",
      " 0   Unnamed: 0    149396 non-null  int64  \n",
      " 1   id            149396 non-null  object \n",
      " 2   mb_used       149396 non-null  float64\n",
      " 3   session_date  149396 non-null  object \n",
      " 4   user_id       149396 non-null  int64  \n",
      "dtypes: float64(1), int64(2), object(2)\n",
      "memory usage: 5.7+ MB\n",
      "<class 'pandas.core.frame.DataFrame'>\n",
      "RangeIndex: 123036 entries, 0 to 123035\n",
      "Data columns (total 3 columns):\n",
      " #   Column        Non-Null Count   Dtype \n",
      "---  ------        --------------   ----- \n",
      " 0   id            123036 non-null  object\n",
      " 1   message_date  123036 non-null  object\n",
      " 2   user_id       123036 non-null  int64 \n",
      "dtypes: int64(1), object(2)\n",
      "memory usage: 2.8+ MB\n",
      "<class 'pandas.core.frame.DataFrame'>\n",
      "RangeIndex: 2 entries, 0 to 1\n",
      "Data columns (total 8 columns):\n",
      " #   Column                 Non-Null Count  Dtype \n",
      "---  ------                 --------------  ----- \n",
      " 0   messages_included      2 non-null      int64 \n",
      " 1   mb_per_month_included  2 non-null      int64 \n",
      " 2   minutes_included       2 non-null      int64 \n",
      " 3   rub_monthly_fee        2 non-null      int64 \n",
      " 4   rub_per_gb             2 non-null      int64 \n",
      " 5   rub_per_message        2 non-null      int64 \n",
      " 6   rub_per_minute         2 non-null      int64 \n",
      " 7   tariff_name            2 non-null      object\n",
      "dtypes: int64(7), object(1)\n",
      "memory usage: 256.0+ bytes\n",
      "<class 'pandas.core.frame.DataFrame'>\n",
      "RangeIndex: 500 entries, 0 to 499\n",
      "Data columns (total 8 columns):\n",
      " #   Column      Non-Null Count  Dtype \n",
      "---  ------      --------------  ----- \n",
      " 0   user_id     500 non-null    int64 \n",
      " 1   age         500 non-null    int64 \n",
      " 2   churn_date  38 non-null     object\n",
      " 3   city        500 non-null    object\n",
      " 4   first_name  500 non-null    object\n",
      " 5   last_name   500 non-null    object\n",
      " 6   reg_date    500 non-null    object\n",
      " 7   tariff      500 non-null    object\n",
      "dtypes: int64(2), object(6)\n",
      "memory usage: 31.4+ KB\n"
     ]
    }
   ],
   "source": [
    "# Get information about the data\n",
    "data_calls.info()\n",
    "data_internet.info()\n",
    "data_messages.info()\n",
    "data_tariffs.info()\n",
    "data_users.info()"
   ]
  },
  {
   "cell_type": "code",
   "execution_count": 4,
   "id": "4c16df7d",
   "metadata": {
    "scrolled": true
   },
   "outputs": [
    {
     "data": {
      "text/html": [
       "<div>\n",
       "<style scoped>\n",
       "    .dataframe tbody tr th:only-of-type {\n",
       "        vertical-align: middle;\n",
       "    }\n",
       "\n",
       "    .dataframe tbody tr th {\n",
       "        vertical-align: top;\n",
       "    }\n",
       "\n",
       "    .dataframe thead th {\n",
       "        text-align: right;\n",
       "    }\n",
       "</style>\n",
       "<table border=\"1\" class=\"dataframe\">\n",
       "  <thead>\n",
       "    <tr style=\"text-align: right;\">\n",
       "      <th></th>\n",
       "      <th>id</th>\n",
       "      <th>call_date</th>\n",
       "      <th>duration</th>\n",
       "      <th>user_id</th>\n",
       "    </tr>\n",
       "  </thead>\n",
       "  <tbody>\n",
       "    <tr>\n",
       "      <th>0</th>\n",
       "      <td>1000_0</td>\n",
       "      <td>2018-07-25</td>\n",
       "      <td>0.00</td>\n",
       "      <td>1000</td>\n",
       "    </tr>\n",
       "    <tr>\n",
       "      <th>1</th>\n",
       "      <td>1000_1</td>\n",
       "      <td>2018-08-17</td>\n",
       "      <td>0.00</td>\n",
       "      <td>1000</td>\n",
       "    </tr>\n",
       "    <tr>\n",
       "      <th>2</th>\n",
       "      <td>1000_2</td>\n",
       "      <td>2018-06-11</td>\n",
       "      <td>2.85</td>\n",
       "      <td>1000</td>\n",
       "    </tr>\n",
       "    <tr>\n",
       "      <th>3</th>\n",
       "      <td>1000_3</td>\n",
       "      <td>2018-09-21</td>\n",
       "      <td>13.80</td>\n",
       "      <td>1000</td>\n",
       "    </tr>\n",
       "    <tr>\n",
       "      <th>4</th>\n",
       "      <td>1000_4</td>\n",
       "      <td>2018-12-15</td>\n",
       "      <td>5.18</td>\n",
       "      <td>1000</td>\n",
       "    </tr>\n",
       "  </tbody>\n",
       "</table>\n",
       "</div>"
      ],
      "text/plain": [
       "       id   call_date  duration  user_id\n",
       "0  1000_0  2018-07-25      0.00     1000\n",
       "1  1000_1  2018-08-17      0.00     1000\n",
       "2  1000_2  2018-06-11      2.85     1000\n",
       "3  1000_3  2018-09-21     13.80     1000\n",
       "4  1000_4  2018-12-15      5.18     1000"
      ]
     },
     "metadata": {},
     "output_type": "display_data"
    },
    {
     "data": {
      "text/html": [
       "<div>\n",
       "<style scoped>\n",
       "    .dataframe tbody tr th:only-of-type {\n",
       "        vertical-align: middle;\n",
       "    }\n",
       "\n",
       "    .dataframe tbody tr th {\n",
       "        vertical-align: top;\n",
       "    }\n",
       "\n",
       "    .dataframe thead th {\n",
       "        text-align: right;\n",
       "    }\n",
       "</style>\n",
       "<table border=\"1\" class=\"dataframe\">\n",
       "  <thead>\n",
       "    <tr style=\"text-align: right;\">\n",
       "      <th></th>\n",
       "      <th>Unnamed: 0</th>\n",
       "      <th>id</th>\n",
       "      <th>mb_used</th>\n",
       "      <th>session_date</th>\n",
       "      <th>user_id</th>\n",
       "    </tr>\n",
       "  </thead>\n",
       "  <tbody>\n",
       "    <tr>\n",
       "      <th>0</th>\n",
       "      <td>0</td>\n",
       "      <td>1000_0</td>\n",
       "      <td>112.95</td>\n",
       "      <td>2018-11-25</td>\n",
       "      <td>1000</td>\n",
       "    </tr>\n",
       "    <tr>\n",
       "      <th>1</th>\n",
       "      <td>1</td>\n",
       "      <td>1000_1</td>\n",
       "      <td>1052.81</td>\n",
       "      <td>2018-09-07</td>\n",
       "      <td>1000</td>\n",
       "    </tr>\n",
       "    <tr>\n",
       "      <th>2</th>\n",
       "      <td>2</td>\n",
       "      <td>1000_2</td>\n",
       "      <td>1197.26</td>\n",
       "      <td>2018-06-25</td>\n",
       "      <td>1000</td>\n",
       "    </tr>\n",
       "    <tr>\n",
       "      <th>3</th>\n",
       "      <td>3</td>\n",
       "      <td>1000_3</td>\n",
       "      <td>550.27</td>\n",
       "      <td>2018-08-22</td>\n",
       "      <td>1000</td>\n",
       "    </tr>\n",
       "    <tr>\n",
       "      <th>4</th>\n",
       "      <td>4</td>\n",
       "      <td>1000_4</td>\n",
       "      <td>302.56</td>\n",
       "      <td>2018-09-24</td>\n",
       "      <td>1000</td>\n",
       "    </tr>\n",
       "  </tbody>\n",
       "</table>\n",
       "</div>"
      ],
      "text/plain": [
       "   Unnamed: 0      id  mb_used session_date  user_id\n",
       "0           0  1000_0   112.95   2018-11-25     1000\n",
       "1           1  1000_1  1052.81   2018-09-07     1000\n",
       "2           2  1000_2  1197.26   2018-06-25     1000\n",
       "3           3  1000_3   550.27   2018-08-22     1000\n",
       "4           4  1000_4   302.56   2018-09-24     1000"
      ]
     },
     "metadata": {},
     "output_type": "display_data"
    },
    {
     "data": {
      "text/html": [
       "<div>\n",
       "<style scoped>\n",
       "    .dataframe tbody tr th:only-of-type {\n",
       "        vertical-align: middle;\n",
       "    }\n",
       "\n",
       "    .dataframe tbody tr th {\n",
       "        vertical-align: top;\n",
       "    }\n",
       "\n",
       "    .dataframe thead th {\n",
       "        text-align: right;\n",
       "    }\n",
       "</style>\n",
       "<table border=\"1\" class=\"dataframe\">\n",
       "  <thead>\n",
       "    <tr style=\"text-align: right;\">\n",
       "      <th></th>\n",
       "      <th>id</th>\n",
       "      <th>message_date</th>\n",
       "      <th>user_id</th>\n",
       "    </tr>\n",
       "  </thead>\n",
       "  <tbody>\n",
       "    <tr>\n",
       "      <th>0</th>\n",
       "      <td>1000_0</td>\n",
       "      <td>2018-06-27</td>\n",
       "      <td>1000</td>\n",
       "    </tr>\n",
       "    <tr>\n",
       "      <th>1</th>\n",
       "      <td>1000_1</td>\n",
       "      <td>2018-10-08</td>\n",
       "      <td>1000</td>\n",
       "    </tr>\n",
       "    <tr>\n",
       "      <th>2</th>\n",
       "      <td>1000_2</td>\n",
       "      <td>2018-08-04</td>\n",
       "      <td>1000</td>\n",
       "    </tr>\n",
       "    <tr>\n",
       "      <th>3</th>\n",
       "      <td>1000_3</td>\n",
       "      <td>2018-06-16</td>\n",
       "      <td>1000</td>\n",
       "    </tr>\n",
       "    <tr>\n",
       "      <th>4</th>\n",
       "      <td>1000_4</td>\n",
       "      <td>2018-12-05</td>\n",
       "      <td>1000</td>\n",
       "    </tr>\n",
       "  </tbody>\n",
       "</table>\n",
       "</div>"
      ],
      "text/plain": [
       "       id message_date  user_id\n",
       "0  1000_0   2018-06-27     1000\n",
       "1  1000_1   2018-10-08     1000\n",
       "2  1000_2   2018-08-04     1000\n",
       "3  1000_3   2018-06-16     1000\n",
       "4  1000_4   2018-12-05     1000"
      ]
     },
     "metadata": {},
     "output_type": "display_data"
    },
    {
     "data": {
      "text/html": [
       "<div>\n",
       "<style scoped>\n",
       "    .dataframe tbody tr th:only-of-type {\n",
       "        vertical-align: middle;\n",
       "    }\n",
       "\n",
       "    .dataframe tbody tr th {\n",
       "        vertical-align: top;\n",
       "    }\n",
       "\n",
       "    .dataframe thead th {\n",
       "        text-align: right;\n",
       "    }\n",
       "</style>\n",
       "<table border=\"1\" class=\"dataframe\">\n",
       "  <thead>\n",
       "    <tr style=\"text-align: right;\">\n",
       "      <th></th>\n",
       "      <th>messages_included</th>\n",
       "      <th>mb_per_month_included</th>\n",
       "      <th>minutes_included</th>\n",
       "      <th>rub_monthly_fee</th>\n",
       "      <th>rub_per_gb</th>\n",
       "      <th>rub_per_message</th>\n",
       "      <th>rub_per_minute</th>\n",
       "      <th>tariff_name</th>\n",
       "    </tr>\n",
       "  </thead>\n",
       "  <tbody>\n",
       "    <tr>\n",
       "      <th>0</th>\n",
       "      <td>50</td>\n",
       "      <td>15360</td>\n",
       "      <td>500</td>\n",
       "      <td>550</td>\n",
       "      <td>200</td>\n",
       "      <td>3</td>\n",
       "      <td>3</td>\n",
       "      <td>smart</td>\n",
       "    </tr>\n",
       "    <tr>\n",
       "      <th>1</th>\n",
       "      <td>1000</td>\n",
       "      <td>30720</td>\n",
       "      <td>3000</td>\n",
       "      <td>1950</td>\n",
       "      <td>150</td>\n",
       "      <td>1</td>\n",
       "      <td>1</td>\n",
       "      <td>ultra</td>\n",
       "    </tr>\n",
       "  </tbody>\n",
       "</table>\n",
       "</div>"
      ],
      "text/plain": [
       "   messages_included  mb_per_month_included  minutes_included  \\\n",
       "0                 50                  15360               500   \n",
       "1               1000                  30720              3000   \n",
       "\n",
       "   rub_monthly_fee  rub_per_gb  rub_per_message  rub_per_minute tariff_name  \n",
       "0              550         200                3               3       smart  \n",
       "1             1950         150                1               1       ultra  "
      ]
     },
     "metadata": {},
     "output_type": "display_data"
    },
    {
     "data": {
      "text/html": [
       "<div>\n",
       "<style scoped>\n",
       "    .dataframe tbody tr th:only-of-type {\n",
       "        vertical-align: middle;\n",
       "    }\n",
       "\n",
       "    .dataframe tbody tr th {\n",
       "        vertical-align: top;\n",
       "    }\n",
       "\n",
       "    .dataframe thead th {\n",
       "        text-align: right;\n",
       "    }\n",
       "</style>\n",
       "<table border=\"1\" class=\"dataframe\">\n",
       "  <thead>\n",
       "    <tr style=\"text-align: right;\">\n",
       "      <th></th>\n",
       "      <th>user_id</th>\n",
       "      <th>age</th>\n",
       "      <th>churn_date</th>\n",
       "      <th>city</th>\n",
       "      <th>first_name</th>\n",
       "      <th>last_name</th>\n",
       "      <th>reg_date</th>\n",
       "      <th>tariff</th>\n",
       "    </tr>\n",
       "  </thead>\n",
       "  <tbody>\n",
       "    <tr>\n",
       "      <th>0</th>\n",
       "      <td>1000</td>\n",
       "      <td>52</td>\n",
       "      <td>NaN</td>\n",
       "      <td>Краснодар</td>\n",
       "      <td>Рафаил</td>\n",
       "      <td>Верещагин</td>\n",
       "      <td>2018-05-25</td>\n",
       "      <td>ultra</td>\n",
       "    </tr>\n",
       "    <tr>\n",
       "      <th>1</th>\n",
       "      <td>1001</td>\n",
       "      <td>41</td>\n",
       "      <td>NaN</td>\n",
       "      <td>Москва</td>\n",
       "      <td>Иван</td>\n",
       "      <td>Ежов</td>\n",
       "      <td>2018-11-01</td>\n",
       "      <td>smart</td>\n",
       "    </tr>\n",
       "    <tr>\n",
       "      <th>2</th>\n",
       "      <td>1002</td>\n",
       "      <td>59</td>\n",
       "      <td>NaN</td>\n",
       "      <td>Стерлитамак</td>\n",
       "      <td>Евгений</td>\n",
       "      <td>Абрамович</td>\n",
       "      <td>2018-06-17</td>\n",
       "      <td>smart</td>\n",
       "    </tr>\n",
       "    <tr>\n",
       "      <th>3</th>\n",
       "      <td>1003</td>\n",
       "      <td>23</td>\n",
       "      <td>NaN</td>\n",
       "      <td>Москва</td>\n",
       "      <td>Белла</td>\n",
       "      <td>Белякова</td>\n",
       "      <td>2018-08-17</td>\n",
       "      <td>ultra</td>\n",
       "    </tr>\n",
       "    <tr>\n",
       "      <th>4</th>\n",
       "      <td>1004</td>\n",
       "      <td>68</td>\n",
       "      <td>NaN</td>\n",
       "      <td>Новокузнецк</td>\n",
       "      <td>Татьяна</td>\n",
       "      <td>Авдеенко</td>\n",
       "      <td>2018-05-14</td>\n",
       "      <td>ultra</td>\n",
       "    </tr>\n",
       "  </tbody>\n",
       "</table>\n",
       "</div>"
      ],
      "text/plain": [
       "   user_id  age churn_date         city first_name  last_name    reg_date  \\\n",
       "0     1000   52        NaN    Краснодар     Рафаил  Верещагин  2018-05-25   \n",
       "1     1001   41        NaN       Москва       Иван       Ежов  2018-11-01   \n",
       "2     1002   59        NaN  Стерлитамак    Евгений  Абрамович  2018-06-17   \n",
       "3     1003   23        NaN       Москва      Белла   Белякова  2018-08-17   \n",
       "4     1004   68        NaN  Новокузнецк    Татьяна   Авдеенко  2018-05-14   \n",
       "\n",
       "  tariff  \n",
       "0  ultra  \n",
       "1  smart  \n",
       "2  smart  \n",
       "3  ultra  \n",
       "4  ultra  "
      ]
     },
     "metadata": {},
     "output_type": "display_data"
    }
   ],
   "source": [
    "# Print the first rows for all dataframes\n",
    "display(data_calls.head())\n",
    "display(data_internet.head())\n",
    "display(data_messages.head())\n",
    "display(data_tariffs.head())\n",
    "display(data_users.head())"
   ]
  },
  {
   "cell_type": "markdown",
   "id": "35f2df53",
   "metadata": {},
   "source": [
    "## Data processing"
   ]
  },
  {
   "cell_type": "markdown",
   "id": "7b1eff51",
   "metadata": {},
   "source": [
    "There are gaps only in the dataframe of the sample, and they are logical (the expiration date of the tariff). We leave the gaps as they are."
   ]
  },
  {
   "cell_type": "code",
   "execution_count": 5,
   "id": "d53177fb",
   "metadata": {
    "scrolled": true
   },
   "outputs": [
    {
     "data": {
      "text/html": [
       "<div>\n",
       "<style scoped>\n",
       "    .dataframe tbody tr th:only-of-type {\n",
       "        vertical-align: middle;\n",
       "    }\n",
       "\n",
       "    .dataframe tbody tr th {\n",
       "        vertical-align: top;\n",
       "    }\n",
       "\n",
       "    .dataframe thead th {\n",
       "        text-align: right;\n",
       "    }\n",
       "</style>\n",
       "<table border=\"1\" class=\"dataframe\">\n",
       "  <thead>\n",
       "    <tr style=\"text-align: right;\">\n",
       "      <th></th>\n",
       "      <th>Unnamed: 0</th>\n",
       "      <th>id</th>\n",
       "      <th>mb_used</th>\n",
       "      <th>session_date</th>\n",
       "      <th>user_id</th>\n",
       "    </tr>\n",
       "  </thead>\n",
       "  <tbody>\n",
       "    <tr>\n",
       "      <th>0</th>\n",
       "      <td>0</td>\n",
       "      <td>1000_0</td>\n",
       "      <td>112.95</td>\n",
       "      <td>2018-11-25</td>\n",
       "      <td>1000</td>\n",
       "    </tr>\n",
       "    <tr>\n",
       "      <th>1</th>\n",
       "      <td>1</td>\n",
       "      <td>1000_1</td>\n",
       "      <td>1052.81</td>\n",
       "      <td>2018-09-07</td>\n",
       "      <td>1000</td>\n",
       "    </tr>\n",
       "    <tr>\n",
       "      <th>2</th>\n",
       "      <td>2</td>\n",
       "      <td>1000_2</td>\n",
       "      <td>1197.26</td>\n",
       "      <td>2018-06-25</td>\n",
       "      <td>1000</td>\n",
       "    </tr>\n",
       "    <tr>\n",
       "      <th>3</th>\n",
       "      <td>3</td>\n",
       "      <td>1000_3</td>\n",
       "      <td>550.27</td>\n",
       "      <td>2018-08-22</td>\n",
       "      <td>1000</td>\n",
       "    </tr>\n",
       "    <tr>\n",
       "      <th>4</th>\n",
       "      <td>4</td>\n",
       "      <td>1000_4</td>\n",
       "      <td>302.56</td>\n",
       "      <td>2018-09-24</td>\n",
       "      <td>1000</td>\n",
       "    </tr>\n",
       "    <tr>\n",
       "      <th>...</th>\n",
       "      <td>...</td>\n",
       "      <td>...</td>\n",
       "      <td>...</td>\n",
       "      <td>...</td>\n",
       "      <td>...</td>\n",
       "    </tr>\n",
       "    <tr>\n",
       "      <th>149391</th>\n",
       "      <td>149391</td>\n",
       "      <td>1499_152</td>\n",
       "      <td>318.90</td>\n",
       "      <td>2018-10-03</td>\n",
       "      <td>1499</td>\n",
       "    </tr>\n",
       "    <tr>\n",
       "      <th>149392</th>\n",
       "      <td>149392</td>\n",
       "      <td>1499_153</td>\n",
       "      <td>490.13</td>\n",
       "      <td>2018-12-14</td>\n",
       "      <td>1499</td>\n",
       "    </tr>\n",
       "    <tr>\n",
       "      <th>149393</th>\n",
       "      <td>149393</td>\n",
       "      <td>1499_154</td>\n",
       "      <td>0.00</td>\n",
       "      <td>2018-10-27</td>\n",
       "      <td>1499</td>\n",
       "    </tr>\n",
       "    <tr>\n",
       "      <th>149394</th>\n",
       "      <td>149394</td>\n",
       "      <td>1499_155</td>\n",
       "      <td>1246.32</td>\n",
       "      <td>2018-11-26</td>\n",
       "      <td>1499</td>\n",
       "    </tr>\n",
       "    <tr>\n",
       "      <th>149395</th>\n",
       "      <td>149395</td>\n",
       "      <td>1499_156</td>\n",
       "      <td>544.37</td>\n",
       "      <td>2018-10-26</td>\n",
       "      <td>1499</td>\n",
       "    </tr>\n",
       "  </tbody>\n",
       "</table>\n",
       "<p>149396 rows × 5 columns</p>\n",
       "</div>"
      ],
      "text/plain": [
       "        Unnamed: 0        id  mb_used session_date  user_id\n",
       "0                0    1000_0   112.95   2018-11-25     1000\n",
       "1                1    1000_1  1052.81   2018-09-07     1000\n",
       "2                2    1000_2  1197.26   2018-06-25     1000\n",
       "3                3    1000_3   550.27   2018-08-22     1000\n",
       "4                4    1000_4   302.56   2018-09-24     1000\n",
       "...            ...       ...      ...          ...      ...\n",
       "149391      149391  1499_152   318.90   2018-10-03     1499\n",
       "149392      149392  1499_153   490.13   2018-12-14     1499\n",
       "149393      149393  1499_154     0.00   2018-10-27     1499\n",
       "149394      149394  1499_155  1246.32   2018-11-26     1499\n",
       "149395      149395  1499_156   544.37   2018-10-26     1499\n",
       "\n",
       "[149396 rows x 5 columns]"
      ]
     },
     "execution_count": 5,
     "metadata": {},
     "output_type": "execute_result"
    }
   ],
   "source": [
    "data_internet"
   ]
  },
  {
   "cell_type": "code",
   "execution_count": 6,
   "id": "43d41d48",
   "metadata": {},
   "outputs": [],
   "source": [
    "del data_internet['Unnamed: 0']"
   ]
  },
  {
   "cell_type": "code",
   "execution_count": 7,
   "id": "1f5fc16e",
   "metadata": {},
   "outputs": [
    {
     "data": {
      "text/plain": [
       "0"
      ]
     },
     "execution_count": 7,
     "metadata": {},
     "output_type": "execute_result"
    }
   ],
   "source": [
    "# Check data for duplicates\n",
    "data_calls.duplicated().sum()"
   ]
  },
  {
   "cell_type": "code",
   "execution_count": 8,
   "id": "ff572012",
   "metadata": {},
   "outputs": [
    {
     "data": {
      "text/plain": [
       "0"
      ]
     },
     "execution_count": 8,
     "metadata": {},
     "output_type": "execute_result"
    }
   ],
   "source": [
    "data_internet.duplicated().sum()"
   ]
  },
  {
   "cell_type": "code",
   "execution_count": 9,
   "id": "fd56e1af",
   "metadata": {},
   "outputs": [
    {
     "data": {
      "text/plain": [
       "0"
      ]
     },
     "execution_count": 9,
     "metadata": {},
     "output_type": "execute_result"
    }
   ],
   "source": [
    "data_messages.duplicated().sum()"
   ]
  },
  {
   "cell_type": "code",
   "execution_count": 10,
   "id": "f02fc29c",
   "metadata": {},
   "outputs": [
    {
     "data": {
      "text/plain": [
       "0"
      ]
     },
     "execution_count": 10,
     "metadata": {},
     "output_type": "execute_result"
    }
   ],
   "source": [
    "data_tariffs.duplicated().sum()"
   ]
  },
  {
   "cell_type": "code",
   "execution_count": 11,
   "id": "287dcece",
   "metadata": {},
   "outputs": [
    {
     "data": {
      "text/plain": [
       "0"
      ]
     },
     "execution_count": 11,
     "metadata": {},
     "output_type": "execute_result"
    }
   ],
   "source": [
    "data_users.duplicated().sum()"
   ]
  },
  {
   "cell_type": "markdown",
   "id": "dcf644d2",
   "metadata": {},
   "source": [
    "## Data preparation"
   ]
  },
  {
   "cell_type": "code",
   "execution_count": 12,
   "id": "f6f1911c",
   "metadata": {},
   "outputs": [],
   "source": [
    "# Get month values for calculations\n",
    "data_calls['call_date'] = pd.to_datetime(data_calls['call_date'], format='%Y-%m-%dT%H:%M:%S')\n",
    "data_calls['month'] = data_calls['call_date'].dt.month\n",
    "\n",
    "data_internet['session_date'] = pd.to_datetime(data_internet['session_date'], format='%Y-%m-%dT%H:%M:%S')\n",
    "data_internet['month'] = data_internet['session_date'].dt.month\n",
    "\n",
    "data_messages['message_date'] = pd.to_datetime(data_messages['message_date'], format='%Y-%m-%dT%H:%M:%S')\n",
    "data_messages['month'] = data_messages['message_date'].dt.month\n",
    "\n",
    "# Remove columns with the old date format as unnecessary\n",
    "del data_calls['call_date']\n",
    "del data_internet['session_date']\n",
    "del data_messages['message_date']"
   ]
  },
  {
   "cell_type": "markdown",
   "id": "ea3e7e69",
   "metadata": {},
   "source": [
    "## Preliminary calculations"
   ]
  },
  {
   "cell_type": "code",
   "execution_count": 13,
   "id": "d62a853a",
   "metadata": {},
   "outputs": [],
   "source": [
    "# Consider rounding up\n",
    "# For non-zero calls, drop the fractional part and add one, leave zero calls unchanged\n",
    "data_calls['duration'] = data_calls[data_calls['duration'] != 0]['duration'].astype(int) + 1\n",
    "data_calls['duration'] = data_calls['duration'].fillna(0)\n",
    "data_calls['duration'] = data_calls['duration'].astype(int)"
   ]
  },
  {
   "cell_type": "code",
   "execution_count": 14,
   "id": "cd5c3013",
   "metadata": {},
   "outputs": [],
   "source": [
    "# number of calls made and spent minutes of conversation by month\n",
    "calls = data_calls.pivot_table(aggfunc={'duration' : np.sum,'id' : len}, \n",
    "                       index=['user_id', 'month'], \n",
    "                       values=['id', 'duration']).rename(columns={'id' : 'calls_sum'})\n",
    "# number of sent messages by month\n",
    "messages = data_messages.pivot_table(aggfunc={'id' : len}, \n",
    "                          index=['user_id', 'month'], \n",
    "                          values=['id']).rename(columns={'id' : 'messages_sum'}).rename(columns={'month_messages' : 'month'})\n",
    "# the amount of Internet traffic used by months\n",
    "internet = data_internet.pivot_table(aggfunc={'mb_used' : np.sum}, \n",
    "                          index=['user_id', 'month'], \n",
    "                          values=['mb_used'])"
   ]
  },
  {
   "cell_type": "code",
   "execution_count": 15,
   "id": "fa961470",
   "metadata": {},
   "outputs": [
    {
     "data": {
      "text/html": [
       "<div>\n",
       "<style scoped>\n",
       "    .dataframe tbody tr th:only-of-type {\n",
       "        vertical-align: middle;\n",
       "    }\n",
       "\n",
       "    .dataframe tbody tr th {\n",
       "        vertical-align: top;\n",
       "    }\n",
       "\n",
       "    .dataframe thead th {\n",
       "        text-align: right;\n",
       "    }\n",
       "</style>\n",
       "<table border=\"1\" class=\"dataframe\">\n",
       "  <thead>\n",
       "    <tr style=\"text-align: right;\">\n",
       "      <th></th>\n",
       "      <th></th>\n",
       "      <th>mb_used</th>\n",
       "      <th>duration</th>\n",
       "      <th>calls_sum</th>\n",
       "      <th>messages_sum</th>\n",
       "    </tr>\n",
       "    <tr>\n",
       "      <th>user_id</th>\n",
       "      <th>month</th>\n",
       "      <th></th>\n",
       "      <th></th>\n",
       "      <th></th>\n",
       "      <th></th>\n",
       "    </tr>\n",
       "  </thead>\n",
       "  <tbody>\n",
       "    <tr>\n",
       "      <th rowspan=\"5\" valign=\"top\">1000</th>\n",
       "      <th>5</th>\n",
       "      <td>2253.49</td>\n",
       "      <td>159.0</td>\n",
       "      <td>22.0</td>\n",
       "      <td>22.0</td>\n",
       "    </tr>\n",
       "    <tr>\n",
       "      <th>6</th>\n",
       "      <td>23233.77</td>\n",
       "      <td>172.0</td>\n",
       "      <td>43.0</td>\n",
       "      <td>60.0</td>\n",
       "    </tr>\n",
       "    <tr>\n",
       "      <th>7</th>\n",
       "      <td>14003.64</td>\n",
       "      <td>340.0</td>\n",
       "      <td>47.0</td>\n",
       "      <td>75.0</td>\n",
       "    </tr>\n",
       "    <tr>\n",
       "      <th>8</th>\n",
       "      <td>14055.93</td>\n",
       "      <td>409.0</td>\n",
       "      <td>52.0</td>\n",
       "      <td>81.0</td>\n",
       "    </tr>\n",
       "    <tr>\n",
       "      <th>9</th>\n",
       "      <td>14568.91</td>\n",
       "      <td>467.0</td>\n",
       "      <td>58.0</td>\n",
       "      <td>57.0</td>\n",
       "    </tr>\n",
       "    <tr>\n",
       "      <th>...</th>\n",
       "      <th>...</th>\n",
       "      <td>...</td>\n",
       "      <td>...</td>\n",
       "      <td>...</td>\n",
       "      <td>...</td>\n",
       "    </tr>\n",
       "    <tr>\n",
       "      <th rowspan=\"2\" valign=\"top\">1273</th>\n",
       "      <th>11</th>\n",
       "      <td>0.00</td>\n",
       "      <td>273.0</td>\n",
       "      <td>45.0</td>\n",
       "      <td>29.0</td>\n",
       "    </tr>\n",
       "    <tr>\n",
       "      <th>12</th>\n",
       "      <td>0.00</td>\n",
       "      <td>261.0</td>\n",
       "      <td>41.0</td>\n",
       "      <td>39.0</td>\n",
       "    </tr>\n",
       "    <tr>\n",
       "      <th>1377</th>\n",
       "      <th>2</th>\n",
       "      <td>0.00</td>\n",
       "      <td>179.0</td>\n",
       "      <td>23.0</td>\n",
       "      <td>2.0</td>\n",
       "    </tr>\n",
       "    <tr>\n",
       "      <th>1392</th>\n",
       "      <th>2</th>\n",
       "      <td>0.00</td>\n",
       "      <td>13.0</td>\n",
       "      <td>2.0</td>\n",
       "      <td>3.0</td>\n",
       "    </tr>\n",
       "    <tr>\n",
       "      <th>1446</th>\n",
       "      <th>8</th>\n",
       "      <td>0.00</td>\n",
       "      <td>50.0</td>\n",
       "      <td>4.0</td>\n",
       "      <td>1.0</td>\n",
       "    </tr>\n",
       "  </tbody>\n",
       "</table>\n",
       "<p>3214 rows × 4 columns</p>\n",
       "</div>"
      ],
      "text/plain": [
       "                mb_used  duration  calls_sum  messages_sum\n",
       "user_id month                                             \n",
       "1000    5       2253.49     159.0       22.0          22.0\n",
       "        6      23233.77     172.0       43.0          60.0\n",
       "        7      14003.64     340.0       47.0          75.0\n",
       "        8      14055.93     409.0       52.0          81.0\n",
       "        9      14568.91     467.0       58.0          57.0\n",
       "...                 ...       ...        ...           ...\n",
       "1273    11         0.00     273.0       45.0          29.0\n",
       "        12         0.00     261.0       41.0          39.0\n",
       "1377    2          0.00     179.0       23.0           2.0\n",
       "1392    2          0.00      13.0        2.0           3.0\n",
       "1446    8          0.00      50.0        4.0           1.0\n",
       "\n",
       "[3214 rows x 4 columns]"
      ]
     },
     "execution_count": 15,
     "metadata": {},
     "output_type": "execute_result"
    }
   ],
   "source": [
    "# Get prepared table\n",
    "data_full = pd.merge(internet, calls, on=['user_id', 'month'], how='outer').merge(messages, on=['user_id', 'month'], how='left')\n",
    "\n",
    "# Fill in the gaps with 0, because pass means not using the service\n",
    "data_full = data_full.fillna(0)\n",
    "data_full"
   ]
  },
  {
   "cell_type": "code",
   "execution_count": 16,
   "id": "f0e8dbce",
   "metadata": {},
   "outputs": [],
   "source": [
    "### monthly revenue per user\n",
    "     # split the original dataframe into two - (by user category)\n",
    "smart = data_users[data_users['tariff'] == 'smart']['user_id']\n",
    "ultra = data_users[data_users['tariff'] == 'ultra']['user_id']\n",
    "    # dataframes by tariffs\n",
    "smart_users = data_full.query('user_id in @smart')\n",
    "ultra_users = data_full.query('user_id in @ultra')"
   ]
  },
  {
   "cell_type": "code",
   "execution_count": 17,
   "id": "d97b4641",
   "metadata": {
    "scrolled": true
   },
   "outputs": [
    {
     "data": {
      "text/html": [
       "<div>\n",
       "<style scoped>\n",
       "    .dataframe tbody tr th:only-of-type {\n",
       "        vertical-align: middle;\n",
       "    }\n",
       "\n",
       "    .dataframe tbody tr th {\n",
       "        vertical-align: top;\n",
       "    }\n",
       "\n",
       "    .dataframe thead th {\n",
       "        text-align: right;\n",
       "    }\n",
       "</style>\n",
       "<table border=\"1\" class=\"dataframe\">\n",
       "  <thead>\n",
       "    <tr style=\"text-align: right;\">\n",
       "      <th></th>\n",
       "      <th></th>\n",
       "      <th>mb_used</th>\n",
       "      <th>duration</th>\n",
       "      <th>calls_sum</th>\n",
       "      <th>messages_sum</th>\n",
       "    </tr>\n",
       "    <tr>\n",
       "      <th>user_id</th>\n",
       "      <th>month</th>\n",
       "      <th></th>\n",
       "      <th></th>\n",
       "      <th></th>\n",
       "      <th></th>\n",
       "    </tr>\n",
       "  </thead>\n",
       "  <tbody>\n",
       "    <tr>\n",
       "      <th rowspan=\"2\" valign=\"top\">1001</th>\n",
       "      <th>11</th>\n",
       "      <td>18429.34</td>\n",
       "      <td>430.0</td>\n",
       "      <td>59.0</td>\n",
       "      <td>0.0</td>\n",
       "    </tr>\n",
       "    <tr>\n",
       "      <th>12</th>\n",
       "      <td>14036.66</td>\n",
       "      <td>414.0</td>\n",
       "      <td>63.0</td>\n",
       "      <td>0.0</td>\n",
       "    </tr>\n",
       "    <tr>\n",
       "      <th rowspan=\"3\" valign=\"top\">1002</th>\n",
       "      <th>6</th>\n",
       "      <td>10856.82</td>\n",
       "      <td>117.0</td>\n",
       "      <td>15.0</td>\n",
       "      <td>4.0</td>\n",
       "    </tr>\n",
       "    <tr>\n",
       "      <th>7</th>\n",
       "      <td>17580.10</td>\n",
       "      <td>214.0</td>\n",
       "      <td>26.0</td>\n",
       "      <td>11.0</td>\n",
       "    </tr>\n",
       "    <tr>\n",
       "      <th>8</th>\n",
       "      <td>20319.26</td>\n",
       "      <td>291.0</td>\n",
       "      <td>42.0</td>\n",
       "      <td>13.0</td>\n",
       "    </tr>\n",
       "    <tr>\n",
       "      <th>...</th>\n",
       "      <th>...</th>\n",
       "      <td>...</td>\n",
       "      <td>...</td>\n",
       "      <td>...</td>\n",
       "      <td>...</td>\n",
       "    </tr>\n",
       "    <tr>\n",
       "      <th rowspan=\"4\" valign=\"top\">1499</th>\n",
       "      <th>9</th>\n",
       "      <td>1845.75</td>\n",
       "      <td>70.0</td>\n",
       "      <td>9.0</td>\n",
       "      <td>11.0</td>\n",
       "    </tr>\n",
       "    <tr>\n",
       "      <th>10</th>\n",
       "      <td>17788.51</td>\n",
       "      <td>450.0</td>\n",
       "      <td>68.0</td>\n",
       "      <td>48.0</td>\n",
       "    </tr>\n",
       "    <tr>\n",
       "      <th>11</th>\n",
       "      <td>17963.31</td>\n",
       "      <td>612.0</td>\n",
       "      <td>74.0</td>\n",
       "      <td>59.0</td>\n",
       "    </tr>\n",
       "    <tr>\n",
       "      <th>12</th>\n",
       "      <td>13055.58</td>\n",
       "      <td>492.0</td>\n",
       "      <td>69.0</td>\n",
       "      <td>66.0</td>\n",
       "    </tr>\n",
       "    <tr>\n",
       "      <th>1446</th>\n",
       "      <th>8</th>\n",
       "      <td>0.00</td>\n",
       "      <td>50.0</td>\n",
       "      <td>4.0</td>\n",
       "      <td>1.0</td>\n",
       "    </tr>\n",
       "  </tbody>\n",
       "</table>\n",
       "<p>2229 rows × 4 columns</p>\n",
       "</div>"
      ],
      "text/plain": [
       "                mb_used  duration  calls_sum  messages_sum\n",
       "user_id month                                             \n",
       "1001    11     18429.34     430.0       59.0           0.0\n",
       "        12     14036.66     414.0       63.0           0.0\n",
       "1002    6      10856.82     117.0       15.0           4.0\n",
       "        7      17580.10     214.0       26.0          11.0\n",
       "        8      20319.26     291.0       42.0          13.0\n",
       "...                 ...       ...        ...           ...\n",
       "1499    9       1845.75      70.0        9.0          11.0\n",
       "        10     17788.51     450.0       68.0          48.0\n",
       "        11     17963.31     612.0       74.0          59.0\n",
       "        12     13055.58     492.0       69.0          66.0\n",
       "1446    8          0.00      50.0        4.0           1.0\n",
       "\n",
       "[2229 rows x 4 columns]"
      ]
     },
     "execution_count": 17,
     "metadata": {},
     "output_type": "execute_result"
    }
   ],
   "source": [
    "# Display the resulting tables\n",
    "smart_users"
   ]
  },
  {
   "cell_type": "code",
   "execution_count": 18,
   "id": "3e23f629",
   "metadata": {
    "scrolled": true
   },
   "outputs": [
    {
     "data": {
      "text/html": [
       "<div>\n",
       "<style scoped>\n",
       "    .dataframe tbody tr th:only-of-type {\n",
       "        vertical-align: middle;\n",
       "    }\n",
       "\n",
       "    .dataframe tbody tr th {\n",
       "        vertical-align: top;\n",
       "    }\n",
       "\n",
       "    .dataframe thead th {\n",
       "        text-align: right;\n",
       "    }\n",
       "</style>\n",
       "<table border=\"1\" class=\"dataframe\">\n",
       "  <thead>\n",
       "    <tr style=\"text-align: right;\">\n",
       "      <th></th>\n",
       "      <th></th>\n",
       "      <th>mb_used</th>\n",
       "      <th>duration</th>\n",
       "      <th>calls_sum</th>\n",
       "      <th>messages_sum</th>\n",
       "    </tr>\n",
       "    <tr>\n",
       "      <th>user_id</th>\n",
       "      <th>month</th>\n",
       "      <th></th>\n",
       "      <th></th>\n",
       "      <th></th>\n",
       "      <th></th>\n",
       "    </tr>\n",
       "  </thead>\n",
       "  <tbody>\n",
       "    <tr>\n",
       "      <th rowspan=\"5\" valign=\"top\">1000</th>\n",
       "      <th>5</th>\n",
       "      <td>2253.49</td>\n",
       "      <td>159.0</td>\n",
       "      <td>22.0</td>\n",
       "      <td>22.0</td>\n",
       "    </tr>\n",
       "    <tr>\n",
       "      <th>6</th>\n",
       "      <td>23233.77</td>\n",
       "      <td>172.0</td>\n",
       "      <td>43.0</td>\n",
       "      <td>60.0</td>\n",
       "    </tr>\n",
       "    <tr>\n",
       "      <th>7</th>\n",
       "      <td>14003.64</td>\n",
       "      <td>340.0</td>\n",
       "      <td>47.0</td>\n",
       "      <td>75.0</td>\n",
       "    </tr>\n",
       "    <tr>\n",
       "      <th>8</th>\n",
       "      <td>14055.93</td>\n",
       "      <td>409.0</td>\n",
       "      <td>52.0</td>\n",
       "      <td>81.0</td>\n",
       "    </tr>\n",
       "    <tr>\n",
       "      <th>9</th>\n",
       "      <td>14568.91</td>\n",
       "      <td>467.0</td>\n",
       "      <td>58.0</td>\n",
       "      <td>57.0</td>\n",
       "    </tr>\n",
       "    <tr>\n",
       "      <th>...</th>\n",
       "      <th>...</th>\n",
       "      <td>...</td>\n",
       "      <td>...</td>\n",
       "      <td>...</td>\n",
       "      <td>...</td>\n",
       "    </tr>\n",
       "    <tr>\n",
       "      <th rowspan=\"3\" valign=\"top\">1273</th>\n",
       "      <th>10</th>\n",
       "      <td>0.00</td>\n",
       "      <td>316.0</td>\n",
       "      <td>40.0</td>\n",
       "      <td>35.0</td>\n",
       "    </tr>\n",
       "    <tr>\n",
       "      <th>11</th>\n",
       "      <td>0.00</td>\n",
       "      <td>273.0</td>\n",
       "      <td>45.0</td>\n",
       "      <td>29.0</td>\n",
       "    </tr>\n",
       "    <tr>\n",
       "      <th>12</th>\n",
       "      <td>0.00</td>\n",
       "      <td>261.0</td>\n",
       "      <td>41.0</td>\n",
       "      <td>39.0</td>\n",
       "    </tr>\n",
       "    <tr>\n",
       "      <th>1377</th>\n",
       "      <th>2</th>\n",
       "      <td>0.00</td>\n",
       "      <td>179.0</td>\n",
       "      <td>23.0</td>\n",
       "      <td>2.0</td>\n",
       "    </tr>\n",
       "    <tr>\n",
       "      <th>1392</th>\n",
       "      <th>2</th>\n",
       "      <td>0.00</td>\n",
       "      <td>13.0</td>\n",
       "      <td>2.0</td>\n",
       "      <td>3.0</td>\n",
       "    </tr>\n",
       "  </tbody>\n",
       "</table>\n",
       "<p>985 rows × 4 columns</p>\n",
       "</div>"
      ],
      "text/plain": [
       "                mb_used  duration  calls_sum  messages_sum\n",
       "user_id month                                             \n",
       "1000    5       2253.49     159.0       22.0          22.0\n",
       "        6      23233.77     172.0       43.0          60.0\n",
       "        7      14003.64     340.0       47.0          75.0\n",
       "        8      14055.93     409.0       52.0          81.0\n",
       "        9      14568.91     467.0       58.0          57.0\n",
       "...                 ...       ...        ...           ...\n",
       "1273    10         0.00     316.0       40.0          35.0\n",
       "        11         0.00     273.0       45.0          29.0\n",
       "        12         0.00     261.0       41.0          39.0\n",
       "1377    2          0.00     179.0       23.0           2.0\n",
       "1392    2          0.00      13.0        2.0           3.0\n",
       "\n",
       "[985 rows x 4 columns]"
      ]
     },
     "execution_count": 18,
     "metadata": {},
     "output_type": "execute_result"
    }
   ],
   "source": [
    "ultra_users"
   ]
  },
  {
   "cell_type": "code",
   "execution_count": 19,
   "id": "c125608f",
   "metadata": {},
   "outputs": [
    {
     "name": "stderr",
     "output_type": "stream",
     "text": [
      "C:\\Users\\KACHAR~1\\AppData\\Local\\Temp/ipykernel_19036/1169100220.py:46: SettingWithCopyWarning: \n",
      "A value is trying to be set on a copy of a slice from a DataFrame.\n",
      "Try using .loc[row_indexer,col_indexer] = value instead\n",
      "\n",
      "See the caveats in the documentation: https://pandas.pydata.org/pandas-docs/stable/user_guide/indexing.html#returning-a-view-versus-a-copy\n",
      "  smart_users['revenue'] = smart_users.apply(month_revenue, axis=1).copy()\n"
     ]
    },
    {
     "data": {
      "text/html": [
       "<div>\n",
       "<style scoped>\n",
       "    .dataframe tbody tr th:only-of-type {\n",
       "        vertical-align: middle;\n",
       "    }\n",
       "\n",
       "    .dataframe tbody tr th {\n",
       "        vertical-align: top;\n",
       "    }\n",
       "\n",
       "    .dataframe thead th {\n",
       "        text-align: right;\n",
       "    }\n",
       "</style>\n",
       "<table border=\"1\" class=\"dataframe\">\n",
       "  <thead>\n",
       "    <tr style=\"text-align: right;\">\n",
       "      <th></th>\n",
       "      <th></th>\n",
       "      <th>mb_used</th>\n",
       "      <th>duration</th>\n",
       "      <th>calls_sum</th>\n",
       "      <th>messages_sum</th>\n",
       "      <th>revenue</th>\n",
       "    </tr>\n",
       "    <tr>\n",
       "      <th>user_id</th>\n",
       "      <th>month</th>\n",
       "      <th></th>\n",
       "      <th></th>\n",
       "      <th></th>\n",
       "      <th></th>\n",
       "      <th></th>\n",
       "    </tr>\n",
       "  </thead>\n",
       "  <tbody>\n",
       "    <tr>\n",
       "      <th rowspan=\"2\" valign=\"top\">1001</th>\n",
       "      <th>11</th>\n",
       "      <td>18429.34</td>\n",
       "      <td>430.0</td>\n",
       "      <td>59.0</td>\n",
       "      <td>0.0</td>\n",
       "      <td>1150.0</td>\n",
       "    </tr>\n",
       "    <tr>\n",
       "      <th>12</th>\n",
       "      <td>14036.66</td>\n",
       "      <td>414.0</td>\n",
       "      <td>63.0</td>\n",
       "      <td>0.0</td>\n",
       "      <td>550.0</td>\n",
       "    </tr>\n",
       "    <tr>\n",
       "      <th rowspan=\"3\" valign=\"top\">1002</th>\n",
       "      <th>6</th>\n",
       "      <td>10856.82</td>\n",
       "      <td>117.0</td>\n",
       "      <td>15.0</td>\n",
       "      <td>4.0</td>\n",
       "      <td>550.0</td>\n",
       "    </tr>\n",
       "    <tr>\n",
       "      <th>7</th>\n",
       "      <td>17580.10</td>\n",
       "      <td>214.0</td>\n",
       "      <td>26.0</td>\n",
       "      <td>11.0</td>\n",
       "      <td>1150.0</td>\n",
       "    </tr>\n",
       "    <tr>\n",
       "      <th>8</th>\n",
       "      <td>20319.26</td>\n",
       "      <td>291.0</td>\n",
       "      <td>42.0</td>\n",
       "      <td>13.0</td>\n",
       "      <td>1550.0</td>\n",
       "    </tr>\n",
       "    <tr>\n",
       "      <th>...</th>\n",
       "      <th>...</th>\n",
       "      <td>...</td>\n",
       "      <td>...</td>\n",
       "      <td>...</td>\n",
       "      <td>...</td>\n",
       "      <td>...</td>\n",
       "    </tr>\n",
       "    <tr>\n",
       "      <th rowspan=\"4\" valign=\"top\">1499</th>\n",
       "      <th>9</th>\n",
       "      <td>1845.75</td>\n",
       "      <td>70.0</td>\n",
       "      <td>9.0</td>\n",
       "      <td>11.0</td>\n",
       "      <td>550.0</td>\n",
       "    </tr>\n",
       "    <tr>\n",
       "      <th>10</th>\n",
       "      <td>17788.51</td>\n",
       "      <td>450.0</td>\n",
       "      <td>68.0</td>\n",
       "      <td>48.0</td>\n",
       "      <td>1150.0</td>\n",
       "    </tr>\n",
       "    <tr>\n",
       "      <th>11</th>\n",
       "      <td>17963.31</td>\n",
       "      <td>612.0</td>\n",
       "      <td>74.0</td>\n",
       "      <td>59.0</td>\n",
       "      <td>1513.0</td>\n",
       "    </tr>\n",
       "    <tr>\n",
       "      <th>12</th>\n",
       "      <td>13055.58</td>\n",
       "      <td>492.0</td>\n",
       "      <td>69.0</td>\n",
       "      <td>66.0</td>\n",
       "      <td>598.0</td>\n",
       "    </tr>\n",
       "    <tr>\n",
       "      <th>1446</th>\n",
       "      <th>8</th>\n",
       "      <td>0.00</td>\n",
       "      <td>50.0</td>\n",
       "      <td>4.0</td>\n",
       "      <td>1.0</td>\n",
       "      <td>550.0</td>\n",
       "    </tr>\n",
       "  </tbody>\n",
       "</table>\n",
       "<p>2229 rows × 5 columns</p>\n",
       "</div>"
      ],
      "text/plain": [
       "                mb_used  duration  calls_sum  messages_sum  revenue\n",
       "user_id month                                                      \n",
       "1001    11     18429.34     430.0       59.0           0.0   1150.0\n",
       "        12     14036.66     414.0       63.0           0.0    550.0\n",
       "1002    6      10856.82     117.0       15.0           4.0    550.0\n",
       "        7      17580.10     214.0       26.0          11.0   1150.0\n",
       "        8      20319.26     291.0       42.0          13.0   1550.0\n",
       "...                 ...       ...        ...           ...      ...\n",
       "1499    9       1845.75      70.0        9.0          11.0    550.0\n",
       "        10     17788.51     450.0       68.0          48.0   1150.0\n",
       "        11     17963.31     612.0       74.0          59.0   1513.0\n",
       "        12     13055.58     492.0       69.0          66.0    598.0\n",
       "1446    8          0.00      50.0        4.0           1.0    550.0\n",
       "\n",
       "[2229 rows x 5 columns]"
      ]
     },
     "execution_count": 19,
     "metadata": {},
     "output_type": "execute_result"
    }
   ],
   "source": [
    "# Function to calculate the profit of smart users\n",
    "def month_revenue(row):\n",
    "    mb = row['mb_used']\n",
    "    duration = row['duration']\n",
    "    messages = row['messages_sum']\n",
    "    \n",
    "    messages_included = 50\n",
    "    mb_per_month_included = 15360\n",
    "    minutes_included = 500\n",
    "    rub_monthly_fee = 550\n",
    "    rub_per_gb = 200\n",
    "    rub_per_message = 3\n",
    "    rub_per_minute = 3\n",
    "    \n",
    "    revenue_minutes = 0\n",
    "    revenue_internet = 0\n",
    "    revenue_messages = 0\n",
    "    total_revenue = 0\n",
    "    \n",
    "    # Get revenue from calls\n",
    "    if (minutes_included - duration) < 0: # If the number of available minus the number of used is less than 0, then the overrun\n",
    "        revenue_minutes = abs(minutes_included - duration) * rub_per_minute\n",
    "    else:\n",
    "        revenue_minutes = 0\n",
    "    \n",
    "    # We receive revenue via the Internet  \n",
    "    if (mb_per_month_included - mb) < 0:\n",
    "         # take modulus from difference and get integer value from gigabyte (divided by 1024)\n",
    "         # despite the fact that we always round up, you need to add 1 to the resulting value\n",
    "         # example: 130 mb // 1024 = 0 + 1 = 1 accounted Gb\n",
    "         # example: 1025 mb // 1024 = 1 + 1 = 2 Gb counted\n",
    "        revenue_internet = ((abs(mb_per_month_included - mb) // 1024) + 1) * rub_per_gb\n",
    "    else:\n",
    "        revenue_internet = 0\n",
    "    \n",
    "    # Get revenue from messages\n",
    "    if (messages_included - messages) < 0:\n",
    "        revenue_messages = abs(messages_included - messages) * rub_per_message\n",
    "    else:\n",
    "        revenue_messages = 0\n",
    "    \n",
    "    total_revenue = (revenue_minutes + revenue_internet + revenue_messages + rub_monthly_fee)\n",
    "    \n",
    "    return total_revenue\n",
    "    \n",
    "smart_users['revenue'] = smart_users.apply(month_revenue, axis=1).copy()\n",
    "smart_users"
   ]
  },
  {
   "cell_type": "code",
   "execution_count": 20,
   "id": "aa3223e8",
   "metadata": {
    "scrolled": true
   },
   "outputs": [
    {
     "data": {
      "text/plain": [
       "array([ 550.,  553.,  556.,  559.,  562.,  565.,  568.,  571.,  574.,\n",
       "        577.,  580.,  583.,  586.,  589.,  592.,  595.,  598.,  601.,\n",
       "        604.,  607.,  610.,  613.,  616.,  619.,  622.,  625.,  628.,\n",
       "        631.,  634.,  637.,  640.,  643.,  646.,  649.,  652.,  655.,\n",
       "        658.,  661.,  664.,  670.,  673.,  676.,  679.,  682.,  688.,\n",
       "        691.,  694.,  697.,  700.,  703.,  706.,  709.,  715.,  718.,\n",
       "        721.,  724.,  727.,  730.,  733.,  736.,  742.,  745.,  750.,\n",
       "        751.,  753.,  754.,  756.,  765.,  766.,  769.,  775.,  777.,\n",
       "        778.,  780.,  781.,  783.,  784.,  786.,  787.,  790.,  792.,\n",
       "        793.,  798.,  802.,  804.,  805.,  807.,  808.,  810.,  819.,\n",
       "        822.,  823.,  825.,  826.,  828.,  829.,  831.,  834.,  835.,\n",
       "        837.,  838.,  840.,  841.,  846.,  847.,  852.,  853.,  856.,\n",
       "        858.,  862.,  867.,  868.,  871.,  873.,  874.,  880.,  882.,\n",
       "        885.,  886.,  889.,  891.,  892.,  901.,  903.,  907.,  909.,\n",
       "        912.,  913.,  918.,  919.,  922.,  928.,  930.,  931.,  933.,\n",
       "        937.,  945.,  950.,  952.,  953.,  954.,  955.,  956.,  958.,\n",
       "        961.,  962.,  963.,  965.,  967.,  970.,  971.,  973.,  975.,\n",
       "        976.,  977.,  980.,  984.,  986.,  989.,  990.,  994.,  995.,\n",
       "        996.,  998., 1000., 1002., 1004., 1005., 1007., 1009., 1010.,\n",
       "       1012., 1015., 1016., 1017., 1018., 1019., 1023., 1033., 1034.,\n",
       "       1039., 1040., 1042., 1043., 1044., 1045., 1046., 1047., 1048.,\n",
       "       1051., 1052., 1055., 1060., 1062., 1064., 1066., 1072., 1073.,\n",
       "       1074., 1075., 1076., 1078., 1079., 1082., 1083., 1093., 1095.,\n",
       "       1096., 1098., 1099., 1106., 1109., 1111., 1112., 1113., 1116.,\n",
       "       1120., 1125., 1129., 1131., 1133., 1134., 1135., 1137., 1139.,\n",
       "       1140., 1141., 1144., 1145., 1147., 1148., 1149., 1150., 1153.,\n",
       "       1154., 1156., 1158., 1162., 1163., 1164., 1168., 1171., 1174.,\n",
       "       1177., 1179., 1180., 1183., 1184., 1186., 1192., 1193., 1194.,\n",
       "       1198., 1202., 1205., 1208., 1214., 1216., 1219., 1227., 1228.,\n",
       "       1234., 1237., 1239., 1240., 1241., 1246., 1249., 1252., 1254.,\n",
       "       1255., 1257., 1263., 1270., 1273., 1279., 1280., 1285., 1289.,\n",
       "       1294., 1300., 1306., 1312., 1313., 1318., 1321., 1333., 1336.,\n",
       "       1339., 1342., 1348., 1350., 1353., 1356., 1357., 1359., 1362.,\n",
       "       1365., 1368., 1371., 1380., 1381., 1387., 1389., 1392., 1395.,\n",
       "       1401., 1404., 1407., 1410., 1413., 1414., 1416., 1418., 1420.,\n",
       "       1426., 1430., 1439., 1440., 1442., 1445., 1446., 1447., 1449.,\n",
       "       1450., 1454., 1455., 1461., 1464., 1470., 1473., 1476., 1479.,\n",
       "       1485., 1487., 1488., 1489., 1490., 1497., 1500., 1510., 1513.,\n",
       "       1526., 1527., 1529., 1536., 1540., 1545., 1550., 1552., 1553.,\n",
       "       1556., 1557., 1559., 1561., 1563., 1565., 1567., 1569., 1571.,\n",
       "       1573., 1574., 1577., 1579., 1580., 1587., 1589., 1590., 1591.,\n",
       "       1603., 1605., 1612., 1614., 1616., 1622., 1624., 1628., 1631.,\n",
       "       1634., 1640., 1643., 1646., 1647., 1649., 1651., 1652., 1654.,\n",
       "       1658., 1661., 1662., 1666., 1667., 1672., 1673., 1675., 1676.,\n",
       "       1677., 1679., 1682., 1684., 1685., 1686., 1687., 1689., 1691.,\n",
       "       1696., 1698., 1700., 1705., 1709., 1712., 1715., 1716., 1722.,\n",
       "       1724., 1726., 1727., 1732., 1736., 1739., 1743., 1750., 1753.,\n",
       "       1760., 1764., 1765., 1766., 1768., 1771., 1776., 1777., 1779.,\n",
       "       1782., 1784., 1785., 1789., 1790., 1791., 1795., 1798., 1806.,\n",
       "       1807., 1808., 1810., 1811., 1816., 1819., 1823., 1824., 1825.,\n",
       "       1826., 1827., 1828., 1831., 1833., 1834., 1841., 1852., 1858.,\n",
       "       1859., 1862., 1864., 1865., 1870., 1885., 1889., 1890., 1891.,\n",
       "       1898., 1906., 1908., 1909., 1911., 1913., 1915., 1926., 1930.,\n",
       "       1942., 1943., 1945., 1948., 1950., 1954., 1956., 1959., 1960.,\n",
       "       1962., 1965., 1969., 1971., 1974., 1981., 1983., 1985., 1987.,\n",
       "       1992., 1993., 1998., 2001., 2004., 2007., 2017., 2022., 2023.,\n",
       "       2028., 2031., 2033., 2041., 2044., 2046., 2052., 2055., 2064.,\n",
       "       2065., 2066., 2067., 2069., 2071., 2073., 2076., 2077., 2080.,\n",
       "       2094., 2096., 2097., 2100., 2101., 2106., 2115., 2118., 2121.,\n",
       "       2125., 2130., 2133., 2149., 2150., 2153., 2164., 2165., 2180.,\n",
       "       2182., 2185., 2186., 2187., 2188., 2189., 2191., 2193., 2194.,\n",
       "       2201., 2203., 2210., 2213., 2219., 2223., 2224., 2231., 2237.,\n",
       "       2242., 2247., 2248., 2252., 2254., 2256., 2261., 2264., 2269.,\n",
       "       2270., 2271., 2273., 2275., 2277., 2288., 2291., 2298., 2301.,\n",
       "       2309., 2310., 2322., 2323., 2332., 2349., 2350., 2353., 2361.,\n",
       "       2362., 2364., 2365., 2367., 2368., 2380., 2381., 2386., 2395.,\n",
       "       2399., 2410., 2411., 2412., 2414., 2419., 2434., 2436., 2443.,\n",
       "       2446., 2447., 2452., 2460., 2468., 2470., 2483., 2492., 2513.,\n",
       "       2540., 2550., 2554., 2556., 2559., 2571., 2575., 2577., 2587.,\n",
       "       2589., 2592., 2596., 2598., 2601., 2604., 2605., 2609., 2611.,\n",
       "       2612., 2616., 2622., 2628., 2630., 2631., 2641., 2643., 2646.,\n",
       "       2647., 2654., 2661., 2667., 2668., 2675., 2681., 2688., 2697.,\n",
       "       2704., 2707., 2708., 2712., 2721., 2725., 2750., 2765., 2766.,\n",
       "       2771., 2773., 2780., 2783., 2788., 2791., 2810., 2819., 2822.,\n",
       "       2831., 2837., 2852., 2853., 2855., 2864., 2882., 2893., 2897.,\n",
       "       2903., 2907., 2913., 2915., 2916., 2919., 2945., 2950., 2953.,\n",
       "       2955., 2965., 2971., 3004., 3028., 3037., 3039., 3040., 3046.,\n",
       "       3053., 3070., 3073., 3076., 3086., 3120., 3125., 3136., 3148.,\n",
       "       3150., 3152., 3195., 3197., 3214., 3236., 3246., 3248., 3251.,\n",
       "       3269., 3309., 3315., 3321., 3345., 3350., 3378., 3393., 3410.,\n",
       "       3412., 3435., 3451., 3455., 3487., 3550., 3587., 3612., 3640.,\n",
       "       3699., 3750., 3759., 3774., 3776., 3870., 3915., 3950., 3985.,\n",
       "       4017., 4116., 4231., 4243., 4320., 4399., 4403., 4433., 4476.,\n",
       "       4550., 4664., 5014., 5255., 5327., 5675., 5683., 5709., 6770.])"
      ]
     },
     "execution_count": 20,
     "metadata": {},
     "output_type": "execute_result"
    }
   ],
   "source": [
    "# Unique revenue values of users of the smart tariff\n",
    "smart_users['revenue'].sort_values().unique()"
   ]
  },
  {
   "cell_type": "code",
   "execution_count": 21,
   "id": "62a5fc1c",
   "metadata": {},
   "outputs": [
    {
     "name": "stderr",
     "output_type": "stream",
     "text": [
      "C:\\Users\\KACHAR~1\\AppData\\Local\\Temp/ipykernel_19036/3650147937.py:47: SettingWithCopyWarning: \n",
      "A value is trying to be set on a copy of a slice from a DataFrame.\n",
      "Try using .loc[row_indexer,col_indexer] = value instead\n",
      "\n",
      "See the caveats in the documentation: https://pandas.pydata.org/pandas-docs/stable/user_guide/indexing.html#returning-a-view-versus-a-copy\n",
      "  ultra_users['revenue'] = ultra_users.apply(month_revenue, axis=1).copy()\n"
     ]
    },
    {
     "data": {
      "text/html": [
       "<div>\n",
       "<style scoped>\n",
       "    .dataframe tbody tr th:only-of-type {\n",
       "        vertical-align: middle;\n",
       "    }\n",
       "\n",
       "    .dataframe tbody tr th {\n",
       "        vertical-align: top;\n",
       "    }\n",
       "\n",
       "    .dataframe thead th {\n",
       "        text-align: right;\n",
       "    }\n",
       "</style>\n",
       "<table border=\"1\" class=\"dataframe\">\n",
       "  <thead>\n",
       "    <tr style=\"text-align: right;\">\n",
       "      <th></th>\n",
       "      <th></th>\n",
       "      <th>mb_used</th>\n",
       "      <th>duration</th>\n",
       "      <th>calls_sum</th>\n",
       "      <th>messages_sum</th>\n",
       "      <th>revenue</th>\n",
       "    </tr>\n",
       "    <tr>\n",
       "      <th>user_id</th>\n",
       "      <th>month</th>\n",
       "      <th></th>\n",
       "      <th></th>\n",
       "      <th></th>\n",
       "      <th></th>\n",
       "      <th></th>\n",
       "    </tr>\n",
       "  </thead>\n",
       "  <tbody>\n",
       "    <tr>\n",
       "      <th rowspan=\"5\" valign=\"top\">1000</th>\n",
       "      <th>5</th>\n",
       "      <td>2253.49</td>\n",
       "      <td>159.0</td>\n",
       "      <td>22.0</td>\n",
       "      <td>22.0</td>\n",
       "      <td>1950.0</td>\n",
       "    </tr>\n",
       "    <tr>\n",
       "      <th>6</th>\n",
       "      <td>23233.77</td>\n",
       "      <td>172.0</td>\n",
       "      <td>43.0</td>\n",
       "      <td>60.0</td>\n",
       "      <td>1950.0</td>\n",
       "    </tr>\n",
       "    <tr>\n",
       "      <th>7</th>\n",
       "      <td>14003.64</td>\n",
       "      <td>340.0</td>\n",
       "      <td>47.0</td>\n",
       "      <td>75.0</td>\n",
       "      <td>1950.0</td>\n",
       "    </tr>\n",
       "    <tr>\n",
       "      <th>8</th>\n",
       "      <td>14055.93</td>\n",
       "      <td>409.0</td>\n",
       "      <td>52.0</td>\n",
       "      <td>81.0</td>\n",
       "      <td>1950.0</td>\n",
       "    </tr>\n",
       "    <tr>\n",
       "      <th>9</th>\n",
       "      <td>14568.91</td>\n",
       "      <td>467.0</td>\n",
       "      <td>58.0</td>\n",
       "      <td>57.0</td>\n",
       "      <td>1950.0</td>\n",
       "    </tr>\n",
       "    <tr>\n",
       "      <th>...</th>\n",
       "      <th>...</th>\n",
       "      <td>...</td>\n",
       "      <td>...</td>\n",
       "      <td>...</td>\n",
       "      <td>...</td>\n",
       "      <td>...</td>\n",
       "    </tr>\n",
       "    <tr>\n",
       "      <th rowspan=\"3\" valign=\"top\">1273</th>\n",
       "      <th>10</th>\n",
       "      <td>0.00</td>\n",
       "      <td>316.0</td>\n",
       "      <td>40.0</td>\n",
       "      <td>35.0</td>\n",
       "      <td>1950.0</td>\n",
       "    </tr>\n",
       "    <tr>\n",
       "      <th>11</th>\n",
       "      <td>0.00</td>\n",
       "      <td>273.0</td>\n",
       "      <td>45.0</td>\n",
       "      <td>29.0</td>\n",
       "      <td>1950.0</td>\n",
       "    </tr>\n",
       "    <tr>\n",
       "      <th>12</th>\n",
       "      <td>0.00</td>\n",
       "      <td>261.0</td>\n",
       "      <td>41.0</td>\n",
       "      <td>39.0</td>\n",
       "      <td>1950.0</td>\n",
       "    </tr>\n",
       "    <tr>\n",
       "      <th>1377</th>\n",
       "      <th>2</th>\n",
       "      <td>0.00</td>\n",
       "      <td>179.0</td>\n",
       "      <td>23.0</td>\n",
       "      <td>2.0</td>\n",
       "      <td>1950.0</td>\n",
       "    </tr>\n",
       "    <tr>\n",
       "      <th>1392</th>\n",
       "      <th>2</th>\n",
       "      <td>0.00</td>\n",
       "      <td>13.0</td>\n",
       "      <td>2.0</td>\n",
       "      <td>3.0</td>\n",
       "      <td>1950.0</td>\n",
       "    </tr>\n",
       "  </tbody>\n",
       "</table>\n",
       "<p>985 rows × 5 columns</p>\n",
       "</div>"
      ],
      "text/plain": [
       "                mb_used  duration  calls_sum  messages_sum  revenue\n",
       "user_id month                                                      \n",
       "1000    5       2253.49     159.0       22.0          22.0   1950.0\n",
       "        6      23233.77     172.0       43.0          60.0   1950.0\n",
       "        7      14003.64     340.0       47.0          75.0   1950.0\n",
       "        8      14055.93     409.0       52.0          81.0   1950.0\n",
       "        9      14568.91     467.0       58.0          57.0   1950.0\n",
       "...                 ...       ...        ...           ...      ...\n",
       "1273    10         0.00     316.0       40.0          35.0   1950.0\n",
       "        11         0.00     273.0       45.0          29.0   1950.0\n",
       "        12         0.00     261.0       41.0          39.0   1950.0\n",
       "1377    2          0.00     179.0       23.0           2.0   1950.0\n",
       "1392    2          0.00      13.0        2.0           3.0   1950.0\n",
       "\n",
       "[985 rows x 5 columns]"
      ]
     },
     "execution_count": 21,
     "metadata": {},
     "output_type": "execute_result"
    }
   ],
   "source": [
    "# Function to calculate the profits of ultra users\n",
    "def month_revenue(row):\n",
    "    mb = row['mb_used']\n",
    "    duration = row['duration']\n",
    "    messages = row['messages_sum']\n",
    "    \n",
    "    messages_included = 1000\n",
    "    mb_per_month_included = 30720\n",
    "    minutes_included = 3000\n",
    "    rub_monthly_fee = 1950\n",
    "    rub_per_gb = 150\n",
    "    rub_per_message = 1\n",
    "    rub_per_minute = 1\n",
    "    \n",
    "    revenue_minutes = 0\n",
    "    revenue_internet = 0\n",
    "    revenue_messages = 0\n",
    "    total_revenue = 0\n",
    "    \n",
    "    # Get revenue from calls\n",
    "    if (minutes_included - duration) < 0:\n",
    "        revenue_minutes = abs(minutes_included - duration) * rub_per_minute\n",
    "    else:\n",
    "        revenue_minutes = 0\n",
    "    \n",
    "    # We receive revenue via the Internet    \n",
    "    if (mb_per_month_included - mb) < 0:\n",
    "         # take modulus from difference and get integer value from gigabyte (divided by 1024)\n",
    "         # despite the fact that we always round up, you need to add 1 to the resulting value\n",
    "         # example: 130 mb // 1024 = 0 + 1 = 1 accounted Gb\n",
    "         # example: 1025 mb // 1024 = 1 + 1 = 2 Gb counted\n",
    "        revenue_internet = ((abs(mb_per_month_included - mb) // 1024) + 1) * rub_per_gb\n",
    "    else:\n",
    "        revenue_internet = 0\n",
    "    \n",
    "    # Get revenue from messages\n",
    "    if (messages_included - messages) < 0:\n",
    "        revenue_messages = abs(messages_included - messages) * rub_per_message\n",
    "    else:\n",
    "        revenue_messages = 0\n",
    "    \n",
    "    total_revenue = (revenue_minutes + revenue_internet + revenue_messages + rub_monthly_fee)\n",
    "    \n",
    "    return total_revenue\n",
    "     \n",
    "    \n",
    "ultra_users['revenue'] = ultra_users.apply(month_revenue, axis=1).copy()\n",
    "ultra_users"
   ]
  },
  {
   "cell_type": "code",
   "execution_count": 22,
   "id": "dd457ddb",
   "metadata": {},
   "outputs": [
    {
     "data": {
      "text/plain": [
       "array([1950., 2100., 2250., 2400., 2550., 2700., 2850., 3000., 3150.,\n",
       "       3300., 3450., 3600., 3750., 3900., 4050., 4200., 4650., 4800.])"
      ]
     },
     "execution_count": 22,
     "metadata": {},
     "output_type": "execute_result"
    }
   ],
   "source": [
    "# Unique revenue values of users of the ultra tariff\n",
    "ultra_users['revenue'].sort_values().unique()"
   ]
  },
  {
   "cell_type": "markdown",
   "id": "459baf41",
   "metadata": {},
   "source": [
    "## Data analysis"
   ]
  },
  {
   "cell_type": "markdown",
   "id": "34fcffca",
   "metadata": {},
   "source": [
    "Description of the behavior of the operator's clients based on the sample. Let's calculate the number of minutes of conversation, messages and the amount of Internet traffic required by users of each tariff per month. Then we calculate the mean, variance, and standard deviation. Let's build histograms."
   ]
  },
  {
   "cell_type": "markdown",
   "id": "e38d8047",
   "metadata": {},
   "source": [
    "### For the smart tariff"
   ]
  },
  {
   "cell_type": "code",
   "execution_count": 23,
   "id": "b62461d2",
   "metadata": {},
   "outputs": [
    {
     "data": {
      "text/html": [
       "<div>\n",
       "<style scoped>\n",
       "    .dataframe tbody tr th:only-of-type {\n",
       "        vertical-align: middle;\n",
       "    }\n",
       "\n",
       "    .dataframe tbody tr th {\n",
       "        vertical-align: top;\n",
       "    }\n",
       "\n",
       "    .dataframe thead th {\n",
       "        text-align: right;\n",
       "    }\n",
       "</style>\n",
       "<table border=\"1\" class=\"dataframe\">\n",
       "  <thead>\n",
       "    <tr style=\"text-align: right;\">\n",
       "      <th></th>\n",
       "      <th>user_id</th>\n",
       "      <th>month</th>\n",
       "      <th>mb_used</th>\n",
       "      <th>duration</th>\n",
       "      <th>calls_sum</th>\n",
       "      <th>messages_sum</th>\n",
       "      <th>revenue</th>\n",
       "    </tr>\n",
       "  </thead>\n",
       "  <tbody>\n",
       "    <tr>\n",
       "      <th>0</th>\n",
       "      <td>1001</td>\n",
       "      <td>11</td>\n",
       "      <td>18429.34</td>\n",
       "      <td>430.0</td>\n",
       "      <td>59.0</td>\n",
       "      <td>0.0</td>\n",
       "      <td>1150.0</td>\n",
       "    </tr>\n",
       "    <tr>\n",
       "      <th>1</th>\n",
       "      <td>1001</td>\n",
       "      <td>12</td>\n",
       "      <td>14036.66</td>\n",
       "      <td>414.0</td>\n",
       "      <td>63.0</td>\n",
       "      <td>0.0</td>\n",
       "      <td>550.0</td>\n",
       "    </tr>\n",
       "    <tr>\n",
       "      <th>2</th>\n",
       "      <td>1002</td>\n",
       "      <td>6</td>\n",
       "      <td>10856.82</td>\n",
       "      <td>117.0</td>\n",
       "      <td>15.0</td>\n",
       "      <td>4.0</td>\n",
       "      <td>550.0</td>\n",
       "    </tr>\n",
       "    <tr>\n",
       "      <th>3</th>\n",
       "      <td>1002</td>\n",
       "      <td>7</td>\n",
       "      <td>17580.10</td>\n",
       "      <td>214.0</td>\n",
       "      <td>26.0</td>\n",
       "      <td>11.0</td>\n",
       "      <td>1150.0</td>\n",
       "    </tr>\n",
       "    <tr>\n",
       "      <th>4</th>\n",
       "      <td>1002</td>\n",
       "      <td>8</td>\n",
       "      <td>20319.26</td>\n",
       "      <td>291.0</td>\n",
       "      <td>42.0</td>\n",
       "      <td>13.0</td>\n",
       "      <td>1550.0</td>\n",
       "    </tr>\n",
       "    <tr>\n",
       "      <th>...</th>\n",
       "      <td>...</td>\n",
       "      <td>...</td>\n",
       "      <td>...</td>\n",
       "      <td>...</td>\n",
       "      <td>...</td>\n",
       "      <td>...</td>\n",
       "      <td>...</td>\n",
       "    </tr>\n",
       "    <tr>\n",
       "      <th>2224</th>\n",
       "      <td>1499</td>\n",
       "      <td>9</td>\n",
       "      <td>1845.75</td>\n",
       "      <td>70.0</td>\n",
       "      <td>9.0</td>\n",
       "      <td>11.0</td>\n",
       "      <td>550.0</td>\n",
       "    </tr>\n",
       "    <tr>\n",
       "      <th>2225</th>\n",
       "      <td>1499</td>\n",
       "      <td>10</td>\n",
       "      <td>17788.51</td>\n",
       "      <td>450.0</td>\n",
       "      <td>68.0</td>\n",
       "      <td>48.0</td>\n",
       "      <td>1150.0</td>\n",
       "    </tr>\n",
       "    <tr>\n",
       "      <th>2226</th>\n",
       "      <td>1499</td>\n",
       "      <td>11</td>\n",
       "      <td>17963.31</td>\n",
       "      <td>612.0</td>\n",
       "      <td>74.0</td>\n",
       "      <td>59.0</td>\n",
       "      <td>1513.0</td>\n",
       "    </tr>\n",
       "    <tr>\n",
       "      <th>2227</th>\n",
       "      <td>1499</td>\n",
       "      <td>12</td>\n",
       "      <td>13055.58</td>\n",
       "      <td>492.0</td>\n",
       "      <td>69.0</td>\n",
       "      <td>66.0</td>\n",
       "      <td>598.0</td>\n",
       "    </tr>\n",
       "    <tr>\n",
       "      <th>2228</th>\n",
       "      <td>1446</td>\n",
       "      <td>8</td>\n",
       "      <td>0.00</td>\n",
       "      <td>50.0</td>\n",
       "      <td>4.0</td>\n",
       "      <td>1.0</td>\n",
       "      <td>550.0</td>\n",
       "    </tr>\n",
       "  </tbody>\n",
       "</table>\n",
       "<p>2229 rows × 7 columns</p>\n",
       "</div>"
      ],
      "text/plain": [
       "      user_id  month   mb_used  duration  calls_sum  messages_sum  revenue\n",
       "0        1001     11  18429.34     430.0       59.0           0.0   1150.0\n",
       "1        1001     12  14036.66     414.0       63.0           0.0    550.0\n",
       "2        1002      6  10856.82     117.0       15.0           4.0    550.0\n",
       "3        1002      7  17580.10     214.0       26.0          11.0   1150.0\n",
       "4        1002      8  20319.26     291.0       42.0          13.0   1550.0\n",
       "...       ...    ...       ...       ...        ...           ...      ...\n",
       "2224     1499      9   1845.75      70.0        9.0          11.0    550.0\n",
       "2225     1499     10  17788.51     450.0       68.0          48.0   1150.0\n",
       "2226     1499     11  17963.31     612.0       74.0          59.0   1513.0\n",
       "2227     1499     12  13055.58     492.0       69.0          66.0    598.0\n",
       "2228     1446      8      0.00      50.0        4.0           1.0    550.0\n",
       "\n",
       "[2229 rows x 7 columns]"
      ]
     },
     "execution_count": 23,
     "metadata": {},
     "output_type": "execute_result"
    }
   ],
   "source": [
    "# Bring the pivot table to the DataFrame\n",
    "smart_users = smart_users.reset_index()\n",
    "smart_users"
   ]
  },
  {
   "cell_type": "code",
   "execution_count": 24,
   "id": "5ee6509b",
   "metadata": {},
   "outputs": [
    {
     "name": "stdout",
     "output_type": "stream",
     "text": [
      "Average minutes: 418\n",
      "Average internet traffic: 16208\n",
      "Average sms: 33\n",
      "Dispersion for minutes: 36292\n",
      "Dispersion for internet traffic: 34462496\n",
      "Dispersion for messages: 796\n",
      "Standard deviation for minutes: 190\n",
      "Standard deviation for Internet traffic: 5870\n",
      "Standard deviation for messages: 28\n"
     ]
    }
   ],
   "source": [
    "# Mean\n",
    "mean_calls = int(smart_users['duration'].mean())\n",
    "mean_internet = int(smart_users['mb_used'].mean())\n",
    "mean_messages = int(smart_users['messages_sum'].mean())\n",
    "\n",
    "# Dispersion \n",
    "dis_calls = int(np.var(smart_users['duration'], ddof=1))\n",
    "dis_internet = int(np.var(smart_users['mb_used'], ddof=1))\n",
    "dis_messages = int(np.var(smart_users['messages_sum'], ddof=1))\n",
    "\n",
    "# Standard deviation\n",
    "stdev_calls = int(np.std(smart_users['duration'], ddof=1))\n",
    "stdev_internet = int(np.std(smart_users['mb_used'], ddof=1))\n",
    "stdev_messages = int(np.std(smart_users['messages_sum'], ddof=1))\n",
    "\n",
    "print(\"Average minutes:\", mean_calls)\n",
    "print(\"Average internet traffic:\", mean_internet)\n",
    "print(\"Average sms:\", mean_messages)\n",
    "\n",
    "print(\"Dispersion for minutes:\", dis_calls)\n",
    "print(\"Dispersion for internet traffic:\", dis_internet)\n",
    "print(\"Dispersion for messages:\", dis_messages)\n",
    "\n",
    "print(\"Standard deviation for minutes:\", stdev_calls)\n",
    "print(\"Standard deviation for Internet traffic:\", stdev_internet)\n",
    "print(\"Standard deviation for messages:\", stdev_messages)"
   ]
  },
  {
   "cell_type": "markdown",
   "id": "506145b7",
   "metadata": {},
   "source": [
    "### For the Ultra tariff"
   ]
  },
  {
   "cell_type": "code",
   "execution_count": 25,
   "id": "62f28f05",
   "metadata": {},
   "outputs": [
    {
     "data": {
      "text/html": [
       "<div>\n",
       "<style scoped>\n",
       "    .dataframe tbody tr th:only-of-type {\n",
       "        vertical-align: middle;\n",
       "    }\n",
       "\n",
       "    .dataframe tbody tr th {\n",
       "        vertical-align: top;\n",
       "    }\n",
       "\n",
       "    .dataframe thead th {\n",
       "        text-align: right;\n",
       "    }\n",
       "</style>\n",
       "<table border=\"1\" class=\"dataframe\">\n",
       "  <thead>\n",
       "    <tr style=\"text-align: right;\">\n",
       "      <th></th>\n",
       "      <th>user_id</th>\n",
       "      <th>month</th>\n",
       "      <th>mb_used</th>\n",
       "      <th>duration</th>\n",
       "      <th>calls_sum</th>\n",
       "      <th>messages_sum</th>\n",
       "      <th>revenue</th>\n",
       "    </tr>\n",
       "  </thead>\n",
       "  <tbody>\n",
       "    <tr>\n",
       "      <th>0</th>\n",
       "      <td>1000</td>\n",
       "      <td>5</td>\n",
       "      <td>2253.49</td>\n",
       "      <td>159.0</td>\n",
       "      <td>22.0</td>\n",
       "      <td>22.0</td>\n",
       "      <td>1950.0</td>\n",
       "    </tr>\n",
       "    <tr>\n",
       "      <th>1</th>\n",
       "      <td>1000</td>\n",
       "      <td>6</td>\n",
       "      <td>23233.77</td>\n",
       "      <td>172.0</td>\n",
       "      <td>43.0</td>\n",
       "      <td>60.0</td>\n",
       "      <td>1950.0</td>\n",
       "    </tr>\n",
       "    <tr>\n",
       "      <th>2</th>\n",
       "      <td>1000</td>\n",
       "      <td>7</td>\n",
       "      <td>14003.64</td>\n",
       "      <td>340.0</td>\n",
       "      <td>47.0</td>\n",
       "      <td>75.0</td>\n",
       "      <td>1950.0</td>\n",
       "    </tr>\n",
       "    <tr>\n",
       "      <th>3</th>\n",
       "      <td>1000</td>\n",
       "      <td>8</td>\n",
       "      <td>14055.93</td>\n",
       "      <td>409.0</td>\n",
       "      <td>52.0</td>\n",
       "      <td>81.0</td>\n",
       "      <td>1950.0</td>\n",
       "    </tr>\n",
       "    <tr>\n",
       "      <th>4</th>\n",
       "      <td>1000</td>\n",
       "      <td>9</td>\n",
       "      <td>14568.91</td>\n",
       "      <td>467.0</td>\n",
       "      <td>58.0</td>\n",
       "      <td>57.0</td>\n",
       "      <td>1950.0</td>\n",
       "    </tr>\n",
       "    <tr>\n",
       "      <th>...</th>\n",
       "      <td>...</td>\n",
       "      <td>...</td>\n",
       "      <td>...</td>\n",
       "      <td>...</td>\n",
       "      <td>...</td>\n",
       "      <td>...</td>\n",
       "      <td>...</td>\n",
       "    </tr>\n",
       "    <tr>\n",
       "      <th>980</th>\n",
       "      <td>1273</td>\n",
       "      <td>10</td>\n",
       "      <td>0.00</td>\n",
       "      <td>316.0</td>\n",
       "      <td>40.0</td>\n",
       "      <td>35.0</td>\n",
       "      <td>1950.0</td>\n",
       "    </tr>\n",
       "    <tr>\n",
       "      <th>981</th>\n",
       "      <td>1273</td>\n",
       "      <td>11</td>\n",
       "      <td>0.00</td>\n",
       "      <td>273.0</td>\n",
       "      <td>45.0</td>\n",
       "      <td>29.0</td>\n",
       "      <td>1950.0</td>\n",
       "    </tr>\n",
       "    <tr>\n",
       "      <th>982</th>\n",
       "      <td>1273</td>\n",
       "      <td>12</td>\n",
       "      <td>0.00</td>\n",
       "      <td>261.0</td>\n",
       "      <td>41.0</td>\n",
       "      <td>39.0</td>\n",
       "      <td>1950.0</td>\n",
       "    </tr>\n",
       "    <tr>\n",
       "      <th>983</th>\n",
       "      <td>1377</td>\n",
       "      <td>2</td>\n",
       "      <td>0.00</td>\n",
       "      <td>179.0</td>\n",
       "      <td>23.0</td>\n",
       "      <td>2.0</td>\n",
       "      <td>1950.0</td>\n",
       "    </tr>\n",
       "    <tr>\n",
       "      <th>984</th>\n",
       "      <td>1392</td>\n",
       "      <td>2</td>\n",
       "      <td>0.00</td>\n",
       "      <td>13.0</td>\n",
       "      <td>2.0</td>\n",
       "      <td>3.0</td>\n",
       "      <td>1950.0</td>\n",
       "    </tr>\n",
       "  </tbody>\n",
       "</table>\n",
       "<p>985 rows × 7 columns</p>\n",
       "</div>"
      ],
      "text/plain": [
       "     user_id  month   mb_used  duration  calls_sum  messages_sum  revenue\n",
       "0       1000      5   2253.49     159.0       22.0          22.0   1950.0\n",
       "1       1000      6  23233.77     172.0       43.0          60.0   1950.0\n",
       "2       1000      7  14003.64     340.0       47.0          75.0   1950.0\n",
       "3       1000      8  14055.93     409.0       52.0          81.0   1950.0\n",
       "4       1000      9  14568.91     467.0       58.0          57.0   1950.0\n",
       "..       ...    ...       ...       ...        ...           ...      ...\n",
       "980     1273     10      0.00     316.0       40.0          35.0   1950.0\n",
       "981     1273     11      0.00     273.0       45.0          29.0   1950.0\n",
       "982     1273     12      0.00     261.0       41.0          39.0   1950.0\n",
       "983     1377      2      0.00     179.0       23.0           2.0   1950.0\n",
       "984     1392      2      0.00      13.0        2.0           3.0   1950.0\n",
       "\n",
       "[985 rows x 7 columns]"
      ]
     },
     "execution_count": 25,
     "metadata": {},
     "output_type": "execute_result"
    }
   ],
   "source": [
    "# Bring the pivot table to the DataFrame\n",
    "ultra_users = ultra_users.reset_index()\n",
    "ultra_users"
   ]
  },
  {
   "cell_type": "code",
   "execution_count": 26,
   "id": "2b0f7f66",
   "metadata": {},
   "outputs": [
    {
     "name": "stdout",
     "output_type": "stream",
     "text": [
      "Average minutes: 527\n",
      "Average internet trafficа: 19468\n",
      "Average sms: 49\n",
      "Dispersion for minutes: 101054\n",
      "Dispersion for internet traffic: 101751013\n",
      "Dispersion for messages: 2285\n",
      "Standard deviation for minutes: 317\n",
      "Standard deviation for Internet traffic: 10087\n",
      "Standard deviation for messages: 47\n"
     ]
    }
   ],
   "source": [
    "# Mean\n",
    "mean_calls = int(ultra_users['duration'].mean())\n",
    "mean_internet = int(ultra_users['mb_used'].mean())\n",
    "mean_messages = int(ultra_users['messages_sum'].mean())\n",
    "\n",
    "# Dispersion \n",
    "dis_calls = int(np.var(ultra_users['duration'], ddof=1))\n",
    "dis_internet = int(np.var(ultra_users['mb_used'], ddof=1))\n",
    "dis_messages = int(np.var(ultra_users['messages_sum'], ddof=1))\n",
    "\n",
    "# Standard deviation \n",
    "stdev_calls = int(np.std(ultra_users['duration'], ddof=1))\n",
    "stdev_internet = int(np.std(ultra_users['mb_used'], ddof=1))\n",
    "stdev_messages = int(np.std(ultra_users['messages_sum'], ddof=1))\n",
    "\n",
    "print(\"Average minutes:\", mean_calls)\n",
    "print(\"Average internet trafficа:\", mean_internet)\n",
    "print(\"Average sms:\", mean_messages)\n",
    "\n",
    "print(\"Dispersion for minutes:\", dis_calls)\n",
    "print(\"Dispersion for internet traffic:\", dis_internet)\n",
    "print(\"Dispersion for messages:\", dis_messages)\n",
    "\n",
    "print(\"Standard deviation for minutes:\", stdev_calls)\n",
    "print(\"Standard deviation for Internet traffic:\", stdev_internet)\n",
    "print(\"Standard deviation for messages:\", stdev_messages)"
   ]
  },
  {
   "cell_type": "markdown",
   "id": "b773fae8",
   "metadata": {},
   "source": [
    "### Histograms for tariffs"
   ]
  },
  {
   "cell_type": "code",
   "execution_count": 27,
   "id": "771e40f5",
   "metadata": {},
   "outputs": [
    {
     "data": {
      "image/png": "[encoded data removed]",
      "text/plain": [
       "<Figure size 432x288 with 1 Axes>"
      ]
     },
     "metadata": {
      "needs_background": "light"
     },
     "output_type": "display_data"
    }
   ],
   "source": [
    "smart_users['duration'].hist(bins=100)\n",
    "ultra_users['duration'].hist(bins=100, alpha=0.5);"
   ]
  },
  {
   "cell_type": "code",
   "execution_count": 28,
   "id": "af8ad2f8",
   "metadata": {},
   "outputs": [
    {
     "data": {
      "image/png": "[encoded data removed]",
      "text/plain": [
       "<Figure size 432x288 with 1 Axes>"
      ]
     },
     "metadata": {
      "needs_background": "light"
     },
     "output_type": "display_data"
    }
   ],
   "source": [
    "smart_users['mb_used'].hist(bins=100)\n",
    "ultra_users['mb_used'].hist(bins=100, alpha=0.5);"
   ]
  },
  {
   "cell_type": "code",
   "execution_count": 29,
   "id": "08ffa6df",
   "metadata": {},
   "outputs": [
    {
     "data": {
      "image/png": "[encoded data removed]",
      "text/plain": [
       "<Figure size 432x288 with 1 Axes>"
      ]
     },
     "metadata": {
      "needs_background": "light"
     },
     "output_type": "display_data"
    }
   ],
   "source": [
    "smart_users['messages_sum'].hist(bins=100)\n",
    "ultra_users['messages_sum'].hist(bins=100, alpha=0.5);"
   ]
  },
  {
   "cell_type": "markdown",
   "id": "3f11d737",
   "metadata": {},
   "source": [
    "Distributions can be described as follows:\n",
    "\n",
    "     1. For calls - normal, beveled to the left\n",
    "     2. For traffic - normal\n",
    "     3. For messages - normal, strongly beveled to the right. The presence of an outlier at the beginning.\n",
    "\n",
    "Allocations for smart users are different from ultra. They are more evenly distributed."
   ]
  },
  {
   "cell_type": "markdown",
   "id": "03d91a4d",
   "metadata": {},
   "source": [
    "## Hypothesis testing"
   ]
  },
  {
   "cell_type": "markdown",
   "id": "4b745d28",
   "metadata": {},
   "source": [
    "### The average revenue of users of Ultra and Smart tariffs differ"
   ]
  },
  {
   "cell_type": "markdown",
   "id": "ee410928",
   "metadata": {},
   "source": [
    "Let's formulate hypotheses.\n",
    "\n",
    "1. Null hypothesis: the average revenue of users of the Ultra and Smart tariffs are equal.\n",
    "2. Alternative hypothesis: the average revenues of users of the Ultra and Smart tariffs are different."
   ]
  },
  {
   "cell_type": "code",
   "execution_count": 30,
   "id": "e126d416",
   "metadata": {},
   "outputs": [
    {
     "name": "stdout",
     "output_type": "stream",
     "text": [
      "p-value: 1.2400298970835039e-249\n",
      "Rejecting the null hypothesis\n"
     ]
    }
   ],
   "source": [
    "# Check for equality averages\n",
    "alpha = 0.01 # critical level of statistical significance\n",
    "\n",
    "# Assume that population variances are not equal\n",
    "results = st.ttest_ind(smart_users['revenue'], ultra_users['revenue'], equal_var = False)\n",
    "\n",
    "print('p-value:', results.pvalue)\n",
    "\n",
    "if results.pvalue < alpha:\n",
    "    print(\"Rejecting the null hypothesis\")\n",
    "else:\n",
    "    print(\"Failed to reject the null hypothesis\")"
   ]
  },
  {
   "cell_type": "markdown",
   "id": "bc123acd",
   "metadata": {},
   "source": [
    "As a result, we find that the average revenues by tariffs differ."
   ]
  },
  {
   "cell_type": "markdown",
   "id": "e6fbbf22",
   "metadata": {},
   "source": [
    "### The average revenue of users from Moscow differs from the revenue of users from other regions"
   ]
  },
  {
   "cell_type": "markdown",
   "id": "448c029b",
   "metadata": {},
   "source": [
    "Let's formulate hypotheses.\n",
    "\n",
    "1. Null hypothesis: the average revenue of users from Moscow is equal to the average revenue from users from other regions.\n",
    "2. Alternative hypothesis: the average revenues of users from Moscow and other regions are different."
   ]
  },
  {
   "cell_type": "code",
   "execution_count": 31,
   "id": "f8c38849",
   "metadata": {},
   "outputs": [],
   "source": [
    "# Define users from Moscow and other settlements\n",
    "Moscow_users = data_users[data_users['city'] == 'Москва']['user_id']\n",
    "Other_users = data_users[data_users['city'] != 'Москва']['user_id']"
   ]
  },
  {
   "cell_type": "code",
   "execution_count": 32,
   "id": "0094a551",
   "metadata": {},
   "outputs": [],
   "source": [
    "# Determine the revenue of users from Moscow for the Smart category\n",
    "Moscow_revenue_smart = smart_users.query('user_id in @Moscow_users')\n",
    "Other_revenue_smart = smart_users.query('user_id in @Other_users')\n",
    "\n",
    "# Same for Ultra category\n",
    "Moscow_revenue_ultra = ultra_users.query('user_id in @Moscow_users')\n",
    "Other_revenue_ultra = ultra_users.query('user_id in @Other_users')"
   ]
  },
  {
   "cell_type": "code",
   "execution_count": 33,
   "id": "f79f6a55",
   "metadata": {},
   "outputs": [],
   "source": [
    "# Get dataframes for revenue by city\n",
    "Moscow_revenue = Moscow_revenue_smart.append(Moscow_revenue_ultra, ignore_index = True)\n",
    "Other_revenue = Other_revenue_smart.append(Other_revenue_ultra, ignore_index = True)"
   ]
  },
  {
   "cell_type": "code",
   "execution_count": 34,
   "id": "3b31b88a",
   "metadata": {},
   "outputs": [
    {
     "name": "stdout",
     "output_type": "stream",
     "text": [
      "p-value: 0.5264663740569886\n",
      "Failed to reject the null hypothesis\n"
     ]
    }
   ],
   "source": [
    "# Check that the average for Moscow differs from the average for other regions\n",
    "alpha = 0.01 # critical level of statistical significance\n",
    "\n",
    "# Assume that population variances are not equal\n",
    "results = st.ttest_ind(Moscow_revenue['revenue'], Other_revenue['revenue'], equal_var = False)\n",
    "\n",
    "print('p-value:', results.pvalue)\n",
    "\n",
    "if results.pvalue < alpha:\n",
    "    print(\"Rejecting the null hypothesis\")\n",
    "else:\n",
    "    print(\"Failed to reject the null hypothesis\")"
   ]
  },
  {
   "cell_type": "markdown",
   "id": "8e832ca1",
   "metadata": {},
   "source": [
    "As a result, we find that the average revenues by location are approximately equal."
   ]
  },
  {
   "cell_type": "markdown",
   "id": "b091cfd7",
   "metadata": {},
   "source": [
    "### Conclusion"
   ]
  },
  {
   "cell_type": "markdown",
   "id": "389bae80",
   "metadata": {},
   "source": [
    "User analysis was carried out for two different tariffs. The profitability for each of them is determined. Hypotheses about differences in average \"checks\" for each tariff and for user locations were tested.\n",
    "\n",
    "As a result, it was found:\n",
    "     1. The average revenue of the tariffs differs in favor of the ultra tariff\n",
    "     2. Average revenue by location is almost the same\n",
    "    \n",
    "For the company, the ultra tariff will be more profitable, regardless of location. "
   ]
  }
 ],
 "metadata": {
  "ExecuteTimeLog": [
   {
    "duration": 1359,
    "start_time": "2022-05-09T09:59:18.414Z"
   },
   {
    "duration": 0,
    "start_time": "2022-05-09T09:59:19.776Z"
   },
   {
    "duration": 0,
    "start_time": "2022-05-09T09:59:19.778Z"
   },
   {
    "duration": 0,
    "start_time": "2022-05-09T09:59:19.779Z"
   },
   {
    "duration": 0,
    "start_time": "2022-05-09T09:59:19.781Z"
   },
   {
    "duration": 0,
    "start_time": "2022-05-09T09:59:19.782Z"
   },
   {
    "duration": 0,
    "start_time": "2022-05-09T09:59:19.791Z"
   },
   {
    "duration": 0,
    "start_time": "2022-05-09T09:59:19.792Z"
   },
   {
    "duration": 0,
    "start_time": "2022-05-09T09:59:19.793Z"
   },
   {
    "duration": 0,
    "start_time": "2022-05-09T09:59:19.794Z"
   },
   {
    "duration": 0,
    "start_time": "2022-05-09T09:59:19.795Z"
   },
   {
    "duration": 0,
    "start_time": "2022-05-09T09:59:19.797Z"
   },
   {
    "duration": 0,
    "start_time": "2022-05-09T09:59:19.798Z"
   },
   {
    "duration": 0,
    "start_time": "2022-05-09T09:59:19.799Z"
   },
   {
    "duration": 0,
    "start_time": "2022-05-09T09:59:19.800Z"
   },
   {
    "duration": 0,
    "start_time": "2022-05-09T09:59:19.801Z"
   },
   {
    "duration": 0,
    "start_time": "2022-05-09T09:59:19.802Z"
   },
   {
    "duration": 0,
    "start_time": "2022-05-09T09:59:19.803Z"
   },
   {
    "duration": 0,
    "start_time": "2022-05-09T09:59:19.804Z"
   },
   {
    "duration": 0,
    "start_time": "2022-05-09T09:59:19.805Z"
   },
   {
    "duration": 0,
    "start_time": "2022-05-09T09:59:19.806Z"
   },
   {
    "duration": 0,
    "start_time": "2022-05-09T09:59:19.807Z"
   },
   {
    "duration": 0,
    "start_time": "2022-05-09T09:59:19.808Z"
   },
   {
    "duration": 0,
    "start_time": "2022-05-09T09:59:19.809Z"
   },
   {
    "duration": 0,
    "start_time": "2022-05-09T09:59:19.810Z"
   },
   {
    "duration": 0,
    "start_time": "2022-05-09T09:59:19.811Z"
   },
   {
    "duration": 1029,
    "start_time": "2022-05-09T10:00:38.642Z"
   },
   {
    "duration": 83,
    "start_time": "2022-05-09T10:00:43.723Z"
   },
   {
    "duration": 33,
    "start_time": "2022-05-09T10:00:43.809Z"
   },
   {
    "duration": 37,
    "start_time": "2022-05-09T10:00:43.843Z"
   },
   {
    "duration": 23,
    "start_time": "2022-05-09T10:00:43.882Z"
   },
   {
    "duration": 135,
    "start_time": "2022-05-09T10:00:43.908Z"
   },
   {
    "duration": 113,
    "start_time": "2022-05-09T10:00:44.045Z"
   },
   {
    "duration": 29,
    "start_time": "2022-05-09T10:00:44.160Z"
   },
   {
    "duration": 10,
    "start_time": "2022-05-09T10:00:44.191Z"
   },
   {
    "duration": 23,
    "start_time": "2022-05-09T10:00:44.203Z"
   },
   {
    "duration": 16,
    "start_time": "2022-05-09T10:00:44.228Z"
   },
   {
    "duration": 11,
    "start_time": "2022-05-09T10:00:44.246Z"
   },
   {
    "duration": 63,
    "start_time": "2022-05-09T10:00:44.259Z"
   },
   {
    "duration": 26,
    "start_time": "2022-05-09T10:00:44.323Z"
   },
   {
    "duration": 32,
    "start_time": "2022-05-09T10:00:44.352Z"
   },
   {
    "duration": 11,
    "start_time": "2022-05-09T10:00:44.386Z"
   },
   {
    "duration": 24,
    "start_time": "2022-05-09T10:00:44.402Z"
   },
   {
    "duration": 10,
    "start_time": "2022-05-09T10:00:44.428Z"
   },
   {
    "duration": 402,
    "start_time": "2022-05-09T10:00:44.439Z"
   },
   {
    "duration": 411,
    "start_time": "2022-05-09T10:00:44.843Z"
   },
   {
    "duration": 373,
    "start_time": "2022-05-09T10:00:45.256Z"
   },
   {
    "duration": 6,
    "start_time": "2022-05-09T10:00:45.630Z"
   },
   {
    "duration": 18,
    "start_time": "2022-05-09T10:00:45.637Z"
   },
   {
    "duration": 25,
    "start_time": "2022-05-09T10:00:45.657Z"
   },
   {
    "duration": 21,
    "start_time": "2022-05-09T10:00:45.683Z"
   },
   {
    "duration": 7,
    "start_time": "2022-05-09T10:00:45.705Z"
   },
   {
    "duration": 116,
    "start_time": "2022-05-09T10:02:18.222Z"
   },
   {
    "duration": 5,
    "start_time": "2022-05-09T10:09:57.520Z"
   },
   {
    "duration": 4,
    "start_time": "2022-05-09T10:10:06.893Z"
   },
   {
    "duration": 4,
    "start_time": "2022-05-09T10:11:16.265Z"
   },
   {
    "duration": 2490,
    "start_time": "2022-05-09T17:45:45.504Z"
   },
   {
    "duration": 96,
    "start_time": "2022-05-10T06:14:46.686Z"
   },
   {
    "duration": 45,
    "start_time": "2022-05-10T06:16:56.475Z"
   },
   {
    "duration": 1652,
    "start_time": "2022-05-10T06:17:05.725Z"
   },
   {
    "duration": 356,
    "start_time": "2022-05-10T06:17:07.380Z"
   },
   {
    "duration": 76,
    "start_time": "2022-05-10T06:17:07.738Z"
   },
   {
    "duration": 32,
    "start_time": "2022-05-10T06:17:07.816Z"
   },
   {
    "duration": 13,
    "start_time": "2022-05-10T06:17:07.850Z"
   },
   {
    "duration": 4,
    "start_time": "2022-05-10T06:17:07.865Z"
   },
   {
    "duration": 136,
    "start_time": "2022-05-10T06:17:07.871Z"
   },
   {
    "duration": 24,
    "start_time": "2022-05-10T06:17:08.009Z"
   },
   {
    "duration": 145,
    "start_time": "2022-05-10T06:17:08.035Z"
   },
   {
    "duration": 109,
    "start_time": "2022-05-10T06:17:08.182Z"
   },
   {
    "duration": 32,
    "start_time": "2022-05-10T06:17:08.292Z"
   },
   {
    "duration": 11,
    "start_time": "2022-05-10T06:17:08.325Z"
   },
   {
    "duration": 7,
    "start_time": "2022-05-10T06:17:08.337Z"
   },
   {
    "duration": 13,
    "start_time": "2022-05-10T06:17:08.347Z"
   },
   {
    "duration": 13,
    "start_time": "2022-05-10T06:17:08.362Z"
   },
   {
    "duration": 76,
    "start_time": "2022-05-10T06:17:08.376Z"
   },
   {
    "duration": 29,
    "start_time": "2022-05-10T06:17:08.454Z"
   },
   {
    "duration": 33,
    "start_time": "2022-05-10T06:17:08.484Z"
   },
   {
    "duration": 12,
    "start_time": "2022-05-10T06:17:08.518Z"
   },
   {
    "duration": 14,
    "start_time": "2022-05-10T06:17:08.532Z"
   },
   {
    "duration": 10,
    "start_time": "2022-05-10T06:17:08.548Z"
   },
   {
    "duration": 442,
    "start_time": "2022-05-10T06:17:08.560Z"
   },
   {
    "duration": 377,
    "start_time": "2022-05-10T06:17:09.004Z"
   },
   {
    "duration": 378,
    "start_time": "2022-05-10T06:17:09.383Z"
   },
   {
    "duration": 6,
    "start_time": "2022-05-10T06:17:09.762Z"
   },
   {
    "duration": 40,
    "start_time": "2022-05-10T06:17:09.770Z"
   },
   {
    "duration": 13,
    "start_time": "2022-05-10T06:17:09.812Z"
   },
   {
    "duration": 4,
    "start_time": "2022-05-10T06:17:09.827Z"
   },
   {
    "duration": 8,
    "start_time": "2022-05-10T06:17:09.832Z"
   },
   {
    "duration": 98,
    "start_time": "2022-05-10T06:17:20.941Z"
   },
   {
    "duration": 40,
    "start_time": "2022-05-10T06:17:53.087Z"
   },
   {
    "duration": 40,
    "start_time": "2022-05-10T06:18:02.373Z"
   },
   {
    "duration": 5,
    "start_time": "2022-05-10T06:18:13.381Z"
   },
   {
    "duration": 7,
    "start_time": "2022-05-10T06:18:19.585Z"
   },
   {
    "duration": 62,
    "start_time": "2022-05-10T06:18:46.175Z"
   },
   {
    "duration": 6,
    "start_time": "2022-05-10T06:58:52.084Z"
   },
   {
    "duration": 6,
    "start_time": "2022-05-10T06:59:08.786Z"
   },
   {
    "duration": 49,
    "start_time": "2022-05-10T06:59:11.049Z"
   },
   {
    "duration": 6,
    "start_time": "2022-05-10T06:59:13.734Z"
   },
   {
    "duration": 113,
    "start_time": "2022-05-10T06:59:45.016Z"
   },
   {
    "duration": 389,
    "start_time": "2022-05-10T07:00:00.270Z"
   },
   {
    "duration": 7,
    "start_time": "2022-05-10T07:00:05.018Z"
   },
   {
    "duration": 339,
    "start_time": "2022-05-10T07:00:07.821Z"
   },
   {
    "duration": 24,
    "start_time": "2022-05-10T07:00:28.383Z"
   },
   {
    "duration": 6,
    "start_time": "2022-05-10T07:00:30.629Z"
   },
   {
    "duration": 21,
    "start_time": "2022-05-10T07:00:49.233Z"
   },
   {
    "duration": 1462,
    "start_time": "2022-05-10T07:00:56.859Z"
   },
   {
    "duration": 345,
    "start_time": "2022-05-10T07:00:58.324Z"
   },
   {
    "duration": 77,
    "start_time": "2022-05-10T07:00:58.671Z"
   },
   {
    "duration": 56,
    "start_time": "2022-05-10T07:00:58.751Z"
   },
   {
    "duration": 14,
    "start_time": "2022-05-10T07:00:58.809Z"
   },
   {
    "duration": 7,
    "start_time": "2022-05-10T07:00:58.824Z"
   },
   {
    "duration": 112,
    "start_time": "2022-05-10T07:00:58.833Z"
   },
   {
    "duration": 47,
    "start_time": "2022-05-10T07:00:58.946Z"
   },
   {
    "duration": 55,
    "start_time": "2022-05-10T07:00:58.995Z"
   },
   {
    "duration": 5,
    "start_time": "2022-05-10T07:00:59.053Z"
   },
   {
    "duration": 7,
    "start_time": "2022-05-10T07:00:59.059Z"
   },
   {
    "duration": 147,
    "start_time": "2022-05-10T07:00:59.067Z"
   },
   {
    "duration": 6,
    "start_time": "2022-05-10T07:00:59.215Z"
   },
   {
    "duration": 27,
    "start_time": "2022-05-10T07:00:59.222Z"
   },
   {
    "duration": 5,
    "start_time": "2022-05-10T07:00:59.251Z"
   },
   {
    "duration": 123,
    "start_time": "2022-05-10T07:00:59.258Z"
   },
   {
    "duration": 29,
    "start_time": "2022-05-10T07:00:59.383Z"
   },
   {
    "duration": 11,
    "start_time": "2022-05-10T07:00:59.414Z"
   },
   {
    "duration": 8,
    "start_time": "2022-05-10T07:00:59.427Z"
   },
   {
    "duration": 13,
    "start_time": "2022-05-10T07:00:59.436Z"
   },
   {
    "duration": 13,
    "start_time": "2022-05-10T07:00:59.451Z"
   },
   {
    "duration": 82,
    "start_time": "2022-05-10T07:00:59.465Z"
   },
   {
    "duration": 27,
    "start_time": "2022-05-10T07:00:59.549Z"
   },
   {
    "duration": 32,
    "start_time": "2022-05-10T07:00:59.577Z"
   },
   {
    "duration": 10,
    "start_time": "2022-05-10T07:00:59.611Z"
   },
   {
    "duration": 20,
    "start_time": "2022-05-10T07:00:59.622Z"
   },
   {
    "duration": 12,
    "start_time": "2022-05-10T07:00:59.644Z"
   },
   {
    "duration": 401,
    "start_time": "2022-05-10T07:00:59.659Z"
   },
   {
    "duration": 369,
    "start_time": "2022-05-10T07:01:00.061Z"
   },
   {
    "duration": 364,
    "start_time": "2022-05-10T07:01:00.432Z"
   },
   {
    "duration": 9,
    "start_time": "2022-05-10T07:01:00.798Z"
   },
   {
    "duration": 8,
    "start_time": "2022-05-10T07:01:00.809Z"
   },
   {
    "duration": 12,
    "start_time": "2022-05-10T07:01:00.819Z"
   },
   {
    "duration": 6,
    "start_time": "2022-05-10T07:01:00.833Z"
   },
   {
    "duration": 7,
    "start_time": "2022-05-10T07:01:00.840Z"
   },
   {
    "duration": 154,
    "start_time": "2022-05-10T07:02:30.318Z"
   },
   {
    "duration": 141,
    "start_time": "2022-05-10T07:04:41.424Z"
   },
   {
    "duration": 5,
    "start_time": "2022-05-10T07:04:43.091Z"
   },
   {
    "duration": 23,
    "start_time": "2022-05-10T07:04:45.736Z"
   },
   {
    "duration": 7,
    "start_time": "2022-05-10T07:04:48.493Z"
   },
   {
    "duration": 144,
    "start_time": "2022-05-10T07:05:08.202Z"
   },
   {
    "duration": 6,
    "start_time": "2022-05-10T07:05:10.362Z"
   },
   {
    "duration": 23,
    "start_time": "2022-05-10T07:05:12.653Z"
   },
   {
    "duration": 5,
    "start_time": "2022-05-10T07:05:14.853Z"
   },
   {
    "duration": 1369,
    "start_time": "2022-05-10T07:24:32.655Z"
   },
   {
    "duration": 352,
    "start_time": "2022-05-10T07:24:34.026Z"
   },
   {
    "duration": 74,
    "start_time": "2022-05-10T07:24:34.380Z"
   },
   {
    "duration": 30,
    "start_time": "2022-05-10T07:24:34.456Z"
   },
   {
    "duration": 30,
    "start_time": "2022-05-10T07:24:34.488Z"
   },
   {
    "duration": 3,
    "start_time": "2022-05-10T07:24:34.520Z"
   },
   {
    "duration": 105,
    "start_time": "2022-05-10T07:24:34.525Z"
   },
   {
    "duration": 43,
    "start_time": "2022-05-10T07:24:34.632Z"
   },
   {
    "duration": 56,
    "start_time": "2022-05-10T07:24:34.676Z"
   },
   {
    "duration": 6,
    "start_time": "2022-05-10T07:24:34.734Z"
   },
   {
    "duration": 6,
    "start_time": "2022-05-10T07:24:34.741Z"
   },
   {
    "duration": 138,
    "start_time": "2022-05-10T07:24:34.749Z"
   },
   {
    "duration": 33,
    "start_time": "2022-05-10T07:24:34.888Z"
   },
   {
    "duration": 100,
    "start_time": "2022-05-10T07:24:34.923Z"
   },
   {
    "duration": 21,
    "start_time": "2022-05-10T07:24:35.024Z"
   },
   {
    "duration": 9,
    "start_time": "2022-05-10T07:24:35.047Z"
   },
   {
    "duration": 22,
    "start_time": "2022-05-10T07:24:35.058Z"
   },
   {
    "duration": 33,
    "start_time": "2022-05-10T07:24:35.082Z"
   },
   {
    "duration": 52,
    "start_time": "2022-05-10T07:24:35.117Z"
   },
   {
    "duration": 50,
    "start_time": "2022-05-10T07:24:35.170Z"
   },
   {
    "duration": 24,
    "start_time": "2022-05-10T07:24:35.222Z"
   },
   {
    "duration": 11,
    "start_time": "2022-05-10T07:24:35.247Z"
   },
   {
    "duration": 21,
    "start_time": "2022-05-10T07:24:35.260Z"
   },
   {
    "duration": 32,
    "start_time": "2022-05-10T07:24:35.283Z"
   },
   {
    "duration": 405,
    "start_time": "2022-05-10T07:24:35.317Z"
   },
   {
    "duration": 378,
    "start_time": "2022-05-10T07:24:35.723Z"
   },
   {
    "duration": 370,
    "start_time": "2022-05-10T07:24:36.102Z"
   },
   {
    "duration": 6,
    "start_time": "2022-05-10T07:24:36.475Z"
   },
   {
    "duration": 8,
    "start_time": "2022-05-10T07:24:36.482Z"
   },
   {
    "duration": 23,
    "start_time": "2022-05-10T07:24:36.491Z"
   },
   {
    "duration": 5,
    "start_time": "2022-05-10T07:24:36.515Z"
   },
   {
    "duration": 6,
    "start_time": "2022-05-10T07:24:36.521Z"
   },
   {
    "duration": 25,
    "start_time": "2022-05-10T07:24:58.427Z"
   },
   {
    "duration": 70,
    "start_time": "2022-05-10T07:26:02.206Z"
   },
   {
    "duration": 1507,
    "start_time": "2022-05-10T07:27:55.190Z"
   },
   {
    "duration": 349,
    "start_time": "2022-05-10T07:27:56.699Z"
   },
   {
    "duration": 79,
    "start_time": "2022-05-10T07:27:57.049Z"
   },
   {
    "duration": 33,
    "start_time": "2022-05-10T07:27:57.130Z"
   },
   {
    "duration": 13,
    "start_time": "2022-05-10T07:27:57.164Z"
   },
   {
    "duration": 4,
    "start_time": "2022-05-10T07:27:57.207Z"
   },
   {
    "duration": 108,
    "start_time": "2022-05-10T07:27:57.212Z"
   },
   {
    "duration": 43,
    "start_time": "2022-05-10T07:27:57.322Z"
   },
   {
    "duration": 60,
    "start_time": "2022-05-10T07:27:57.367Z"
   },
   {
    "duration": 5,
    "start_time": "2022-05-10T07:27:57.429Z"
   },
   {
    "duration": 8,
    "start_time": "2022-05-10T07:27:57.436Z"
   },
   {
    "duration": 137,
    "start_time": "2022-05-10T07:27:57.446Z"
   },
   {
    "duration": 40,
    "start_time": "2022-05-10T07:27:57.585Z"
   },
   {
    "duration": 99,
    "start_time": "2022-05-10T07:27:57.627Z"
   },
   {
    "duration": 25,
    "start_time": "2022-05-10T07:27:57.728Z"
   },
   {
    "duration": 9,
    "start_time": "2022-05-10T07:27:57.755Z"
   },
   {
    "duration": 17,
    "start_time": "2022-05-10T07:27:57.766Z"
   },
   {
    "duration": 36,
    "start_time": "2022-05-10T07:27:57.784Z"
   },
   {
    "duration": 49,
    "start_time": "2022-05-10T07:27:57.821Z"
   },
   {
    "duration": 49,
    "start_time": "2022-05-10T07:27:57.872Z"
   },
   {
    "duration": 18,
    "start_time": "2022-05-10T07:27:57.922Z"
   },
   {
    "duration": 9,
    "start_time": "2022-05-10T07:27:57.942Z"
   },
   {
    "duration": 17,
    "start_time": "2022-05-10T07:27:57.953Z"
   },
   {
    "duration": 40,
    "start_time": "2022-05-10T07:27:57.972Z"
   },
   {
    "duration": 396,
    "start_time": "2022-05-10T07:27:58.014Z"
   },
   {
    "duration": 370,
    "start_time": "2022-05-10T07:27:58.412Z"
   },
   {
    "duration": 360,
    "start_time": "2022-05-10T07:27:58.783Z"
   },
   {
    "duration": 6,
    "start_time": "2022-05-10T07:27:59.146Z"
   },
   {
    "duration": 12,
    "start_time": "2022-05-10T07:27:59.153Z"
   },
   {
    "duration": 12,
    "start_time": "2022-05-10T07:27:59.167Z"
   },
   {
    "duration": 5,
    "start_time": "2022-05-10T07:27:59.180Z"
   },
   {
    "duration": 24,
    "start_time": "2022-05-10T07:27:59.186Z"
   },
   {
    "duration": 123,
    "start_time": "2022-05-10T07:29:26.392Z"
   },
   {
    "duration": 1461,
    "start_time": "2022-05-10T07:29:34.188Z"
   },
   {
    "duration": 337,
    "start_time": "2022-05-10T07:29:35.651Z"
   },
   {
    "duration": 70,
    "start_time": "2022-05-10T07:29:35.989Z"
   },
   {
    "duration": 53,
    "start_time": "2022-05-10T07:29:36.062Z"
   },
   {
    "duration": 13,
    "start_time": "2022-05-10T07:29:36.116Z"
   },
   {
    "duration": 8,
    "start_time": "2022-05-10T07:29:36.131Z"
   },
   {
    "duration": 113,
    "start_time": "2022-05-10T07:29:36.140Z"
   },
   {
    "duration": 54,
    "start_time": "2022-05-10T07:29:36.254Z"
   },
   {
    "duration": 45,
    "start_time": "2022-05-10T07:29:36.310Z"
   },
   {
    "duration": 5,
    "start_time": "2022-05-10T07:29:36.359Z"
   },
   {
    "duration": 6,
    "start_time": "2022-05-10T07:29:36.366Z"
   },
   {
    "duration": 151,
    "start_time": "2022-05-10T07:29:36.374Z"
   },
   {
    "duration": 29,
    "start_time": "2022-05-10T07:29:36.526Z"
   },
   {
    "duration": 112,
    "start_time": "2022-05-10T07:29:36.556Z"
   },
   {
    "duration": 26,
    "start_time": "2022-05-10T07:29:36.670Z"
   },
   {
    "duration": 19,
    "start_time": "2022-05-10T07:29:36.697Z"
   },
   {
    "duration": 16,
    "start_time": "2022-05-10T07:29:36.717Z"
   },
   {
    "duration": 20,
    "start_time": "2022-05-10T07:29:36.735Z"
   },
   {
    "duration": 77,
    "start_time": "2022-05-10T07:29:36.757Z"
   },
   {
    "duration": 34,
    "start_time": "2022-05-10T07:29:36.835Z"
   },
   {
    "duration": 38,
    "start_time": "2022-05-10T07:29:36.871Z"
   },
   {
    "duration": 10,
    "start_time": "2022-05-10T07:29:36.911Z"
   },
   {
    "duration": 27,
    "start_time": "2022-05-10T07:29:36.923Z"
   },
   {
    "duration": 11,
    "start_time": "2022-05-10T07:29:36.952Z"
   },
   {
    "duration": 411,
    "start_time": "2022-05-10T07:29:36.965Z"
   },
   {
    "duration": 371,
    "start_time": "2022-05-10T07:29:37.377Z"
   },
   {
    "duration": 363,
    "start_time": "2022-05-10T07:29:37.750Z"
   },
   {
    "duration": 6,
    "start_time": "2022-05-10T07:29:38.117Z"
   },
   {
    "duration": 13,
    "start_time": "2022-05-10T07:29:38.125Z"
   },
   {
    "duration": 12,
    "start_time": "2022-05-10T07:29:38.140Z"
   },
   {
    "duration": 5,
    "start_time": "2022-05-10T07:29:38.154Z"
   },
   {
    "duration": 7,
    "start_time": "2022-05-10T07:29:38.161Z"
   },
   {
    "duration": 111,
    "start_time": "2022-05-10T07:29:41.030Z"
   },
   {
    "duration": 48,
    "start_time": "2022-05-10T07:29:45.837Z"
   },
   {
    "duration": 1510,
    "start_time": "2022-05-10T07:29:55.201Z"
   },
   {
    "duration": 365,
    "start_time": "2022-05-10T07:29:56.713Z"
   },
   {
    "duration": 80,
    "start_time": "2022-05-10T07:29:57.079Z"
   },
   {
    "duration": 51,
    "start_time": "2022-05-10T07:29:57.162Z"
   },
   {
    "duration": 14,
    "start_time": "2022-05-10T07:29:57.215Z"
   },
   {
    "duration": 5,
    "start_time": "2022-05-10T07:29:57.230Z"
   },
   {
    "duration": 126,
    "start_time": "2022-05-10T07:29:57.237Z"
   },
   {
    "duration": 51,
    "start_time": "2022-05-10T07:29:57.364Z"
   },
   {
    "duration": 46,
    "start_time": "2022-05-10T07:29:57.416Z"
   },
   {
    "duration": 5,
    "start_time": "2022-05-10T07:29:57.465Z"
   },
   {
    "duration": 7,
    "start_time": "2022-05-10T07:29:57.471Z"
   },
   {
    "duration": 149,
    "start_time": "2022-05-10T07:29:57.480Z"
   },
   {
    "duration": 28,
    "start_time": "2022-05-10T07:29:57.631Z"
   },
   {
    "duration": 111,
    "start_time": "2022-05-10T07:29:57.661Z"
   },
   {
    "duration": 37,
    "start_time": "2022-05-10T07:29:57.774Z"
   },
   {
    "duration": 9,
    "start_time": "2022-05-10T07:29:57.813Z"
   },
   {
    "duration": 15,
    "start_time": "2022-05-10T07:29:57.824Z"
   },
   {
    "duration": 26,
    "start_time": "2022-05-10T07:29:57.841Z"
   },
   {
    "duration": 70,
    "start_time": "2022-05-10T07:29:57.869Z"
   },
   {
    "duration": 35,
    "start_time": "2022-05-10T07:29:57.940Z"
   },
   {
    "duration": 38,
    "start_time": "2022-05-10T07:29:57.977Z"
   },
   {
    "duration": 13,
    "start_time": "2022-05-10T07:29:58.016Z"
   },
   {
    "duration": 18,
    "start_time": "2022-05-10T07:29:58.030Z"
   },
   {
    "duration": 12,
    "start_time": "2022-05-10T07:29:58.049Z"
   },
   {
    "duration": 434,
    "start_time": "2022-05-10T07:29:58.063Z"
   },
   {
    "duration": 385,
    "start_time": "2022-05-10T07:29:58.499Z"
   },
   {
    "duration": 370,
    "start_time": "2022-05-10T07:29:58.886Z"
   },
   {
    "duration": 6,
    "start_time": "2022-05-10T07:29:59.260Z"
   },
   {
    "duration": 8,
    "start_time": "2022-05-10T07:29:59.268Z"
   },
   {
    "duration": 31,
    "start_time": "2022-05-10T07:29:59.277Z"
   },
   {
    "duration": 6,
    "start_time": "2022-05-10T07:29:59.310Z"
   },
   {
    "duration": 6,
    "start_time": "2022-05-10T07:29:59.317Z"
   },
   {
    "duration": 128,
    "start_time": "2022-05-10T07:44:15.190Z"
   },
   {
    "duration": 1492,
    "start_time": "2022-05-10T07:57:45.469Z"
   },
   {
    "duration": 370,
    "start_time": "2022-05-10T07:57:46.963Z"
   },
   {
    "duration": 83,
    "start_time": "2022-05-10T07:57:47.335Z"
   },
   {
    "duration": 35,
    "start_time": "2022-05-10T07:57:47.421Z"
   },
   {
    "duration": 15,
    "start_time": "2022-05-10T07:57:47.458Z"
   },
   {
    "duration": 6,
    "start_time": "2022-05-10T07:57:47.507Z"
   },
   {
    "duration": 117,
    "start_time": "2022-05-10T07:57:47.515Z"
   },
   {
    "duration": 45,
    "start_time": "2022-05-10T07:57:47.634Z"
   },
   {
    "duration": 64,
    "start_time": "2022-05-10T07:57:47.681Z"
   },
   {
    "duration": 5,
    "start_time": "2022-05-10T07:57:47.748Z"
   },
   {
    "duration": 7,
    "start_time": "2022-05-10T07:57:47.755Z"
   },
   {
    "duration": 160,
    "start_time": "2022-05-10T07:57:47.763Z"
   },
   {
    "duration": 28,
    "start_time": "2022-05-10T07:57:47.925Z"
   },
   {
    "duration": 121,
    "start_time": "2022-05-10T07:57:47.954Z"
   },
   {
    "duration": 33,
    "start_time": "2022-05-10T07:57:48.076Z"
   },
   {
    "duration": 14,
    "start_time": "2022-05-10T07:57:48.112Z"
   },
   {
    "duration": 17,
    "start_time": "2022-05-10T07:57:48.127Z"
   },
   {
    "duration": 16,
    "start_time": "2022-05-10T07:57:48.145Z"
   },
   {
    "duration": 89,
    "start_time": "2022-05-10T07:57:48.162Z"
   },
   {
    "duration": 32,
    "start_time": "2022-05-10T07:57:48.252Z"
   },
   {
    "duration": 105,
    "start_time": "2022-05-10T07:57:48.286Z"
   },
   {
    "duration": 0,
    "start_time": "2022-05-10T07:57:48.393Z"
   },
   {
    "duration": 0,
    "start_time": "2022-05-10T07:57:48.394Z"
   },
   {
    "duration": 0,
    "start_time": "2022-05-10T07:57:48.395Z"
   },
   {
    "duration": 0,
    "start_time": "2022-05-10T07:57:48.396Z"
   },
   {
    "duration": 0,
    "start_time": "2022-05-10T07:57:48.398Z"
   },
   {
    "duration": 0,
    "start_time": "2022-05-10T07:57:48.399Z"
   },
   {
    "duration": 0,
    "start_time": "2022-05-10T07:57:48.400Z"
   },
   {
    "duration": 0,
    "start_time": "2022-05-10T07:57:48.401Z"
   },
   {
    "duration": 0,
    "start_time": "2022-05-10T07:57:48.402Z"
   },
   {
    "duration": 0,
    "start_time": "2022-05-10T07:57:48.403Z"
   },
   {
    "duration": 0,
    "start_time": "2022-05-10T07:57:48.404Z"
   },
   {
    "duration": 0,
    "start_time": "2022-05-10T07:57:48.405Z"
   },
   {
    "duration": 36,
    "start_time": "2022-05-10T08:01:26.015Z"
   },
   {
    "duration": 56,
    "start_time": "2022-05-10T08:01:38.765Z"
   },
   {
    "duration": 5,
    "start_time": "2022-05-10T08:02:20.393Z"
   },
   {
    "duration": 11,
    "start_time": "2022-05-10T08:02:45.020Z"
   },
   {
    "duration": 17,
    "start_time": "2022-05-10T08:05:34.710Z"
   },
   {
    "duration": 11,
    "start_time": "2022-05-10T08:05:43.463Z"
   },
   {
    "duration": 17,
    "start_time": "2022-05-10T08:05:48.185Z"
   },
   {
    "duration": 11,
    "start_time": "2022-05-10T08:05:51.465Z"
   },
   {
    "duration": 385,
    "start_time": "2022-05-10T08:06:09.688Z"
   },
   {
    "duration": 483,
    "start_time": "2022-05-10T08:06:13.983Z"
   },
   {
    "duration": 370,
    "start_time": "2022-05-10T08:06:18.504Z"
   },
   {
    "duration": 376,
    "start_time": "2022-05-10T08:06:39.554Z"
   },
   {
    "duration": 476,
    "start_time": "2022-05-10T08:06:48.557Z"
   },
   {
    "duration": 343,
    "start_time": "2022-05-10T08:06:53.831Z"
   },
   {
    "duration": 6,
    "start_time": "2022-05-10T08:08:09.181Z"
   },
   {
    "duration": 61,
    "start_time": "2022-05-10T08:09:23.297Z"
   },
   {
    "duration": 5,
    "start_time": "2022-05-10T08:10:45.431Z"
   },
   {
    "duration": 11,
    "start_time": "2022-05-10T08:10:47.143Z"
   },
   {
    "duration": 5,
    "start_time": "2022-05-10T08:10:48.548Z"
   },
   {
    "duration": 6,
    "start_time": "2022-05-10T08:10:51.478Z"
   },
   {
    "duration": 61,
    "start_time": "2022-05-10T08:11:25.794Z"
   },
   {
    "duration": 5,
    "start_time": "2022-05-10T08:13:07.126Z"
   },
   {
    "duration": 5,
    "start_time": "2022-05-10T08:13:17.193Z"
   },
   {
    "duration": 53,
    "start_time": "2022-05-10T21:57:35.440Z"
   },
   {
    "duration": 1906,
    "start_time": "2022-05-10T21:57:38.917Z"
   },
   {
    "duration": 378,
    "start_time": "2022-05-10T21:57:40.826Z"
   },
   {
    "duration": 80,
    "start_time": "2022-05-10T21:57:41.206Z"
   },
   {
    "duration": 52,
    "start_time": "2022-05-10T21:57:41.288Z"
   },
   {
    "duration": 14,
    "start_time": "2022-05-10T21:57:41.342Z"
   },
   {
    "duration": 7,
    "start_time": "2022-05-10T21:57:41.358Z"
   },
   {
    "duration": 129,
    "start_time": "2022-05-10T21:57:41.366Z"
   },
   {
    "duration": 59,
    "start_time": "2022-05-10T21:57:41.496Z"
   },
   {
    "duration": 49,
    "start_time": "2022-05-10T21:57:41.557Z"
   },
   {
    "duration": 5,
    "start_time": "2022-05-10T21:57:41.608Z"
   },
   {
    "duration": 19,
    "start_time": "2022-05-10T21:57:41.615Z"
   },
   {
    "duration": 144,
    "start_time": "2022-05-10T21:57:41.636Z"
   },
   {
    "duration": 30,
    "start_time": "2022-05-10T21:57:41.781Z"
   },
   {
    "duration": 113,
    "start_time": "2022-05-10T21:57:41.814Z"
   },
   {
    "duration": 31,
    "start_time": "2022-05-10T21:57:41.928Z"
   },
   {
    "duration": 10,
    "start_time": "2022-05-10T21:57:41.960Z"
   },
   {
    "duration": 18,
    "start_time": "2022-05-10T21:57:41.972Z"
   },
   {
    "duration": 56,
    "start_time": "2022-05-10T21:57:41.992Z"
   },
   {
    "duration": 61,
    "start_time": "2022-05-10T21:57:42.050Z"
   },
   {
    "duration": 23,
    "start_time": "2022-05-10T21:57:42.133Z"
   },
   {
    "duration": 14,
    "start_time": "2022-05-10T21:57:42.157Z"
   },
   {
    "duration": 38,
    "start_time": "2022-05-10T21:57:42.173Z"
   },
   {
    "duration": 25,
    "start_time": "2022-05-10T21:57:42.212Z"
   },
   {
    "duration": 24,
    "start_time": "2022-05-10T21:57:42.239Z"
   },
   {
    "duration": 11,
    "start_time": "2022-05-10T21:57:42.265Z"
   },
   {
    "duration": 17,
    "start_time": "2022-05-10T21:57:42.278Z"
   },
   {
    "duration": 45,
    "start_time": "2022-05-10T21:57:42.297Z"
   },
   {
    "duration": 425,
    "start_time": "2022-05-10T21:57:42.343Z"
   },
   {
    "duration": 394,
    "start_time": "2022-05-10T21:57:42.770Z"
   },
   {
    "duration": 473,
    "start_time": "2022-05-10T21:57:43.166Z"
   },
   {
    "duration": 6,
    "start_time": "2022-05-10T21:57:43.641Z"
   },
   {
    "duration": 13,
    "start_time": "2022-05-10T21:57:43.649Z"
   },
   {
    "duration": 17,
    "start_time": "2022-05-10T21:57:43.664Z"
   },
   {
    "duration": 5,
    "start_time": "2022-05-10T21:57:43.683Z"
   },
   {
    "duration": 7,
    "start_time": "2022-05-10T21:57:43.690Z"
   },
   {
    "duration": 167,
    "start_time": "2022-05-10T22:01:21.599Z"
   }
  ],
  "kernelspec": {
   "display_name": "Python 3 (ipykernel)",
   "language": "python",
   "name": "python3"
  },
  "language_info": {
   "codemirror_mode": {
    "name": "ipython",
    "version": 3
   },
   "file_extension": ".py",
   "mimetype": "text/x-python",
   "name": "python",
   "nbconvert_exporter": "python",
   "pygments_lexer": "ipython3",
   "version": "3.9.7"
  },
  "toc": {
   "base_numbering": 1,
   "nav_menu": {},
   "number_sections": true,
   "sideBar": true,
   "skip_h1_title": true,
   "title_cell": "Table of Contents",
   "title_sidebar": "Contents",
   "toc_cell": false,
   "toc_position": {},
   "toc_section_display": true,
   "toc_window_display": true
  }
 },
 "nbformat": 4,
 "nbformat_minor": 5
}
